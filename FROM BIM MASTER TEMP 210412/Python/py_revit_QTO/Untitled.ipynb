{
 "cells": [
  {
   "cell_type": "code",
   "execution_count": 3,
   "id": "d5299ac7-e435-4b48-a4dc-a0560d1c0fb5",
   "metadata": {},
   "outputs": [
    {
     "data": {
      "text/plain": [
       "'C:\\\\Users\\\\tvpduy\\\\py_revit_QTO\\\\source\\\\Lookup.xlsx'"
      ]
     },
     "execution_count": 3,
     "metadata": {},
     "output_type": "execute_result"
    }
   ],
   "source": [
    "import json\n",
    "import pandas as pd\n",
    "\n",
    "# 1. TẠO DỮ LIỆU TỪ ĐIỂN TRA CỨU\n",
    "\n",
    "source_path = r\"C:\\Users\\tvpduy\\py_revit_QTO\\source\\Lookup.xlsx\"\n",
    "# print(f\"{'-'*10}Source_path:{'-'*10}\\n{source_path}\")\n",
    "source_path"
   ]
  },
  {
   "cell_type": "code",
   "execution_count": 17,
   "id": "baad512e-e7a5-4609-a20f-8616bc7ab784",
   "metadata": {},
   "outputs": [
    {
     "name": "stdout",
     "output_type": "stream",
     "text": [
      "----------Source_DataFrame:----------\n",
      "(43, 10)\n",
      "----------Source_DataFrame_describe:----------\n",
      "       Prc_Type  Prc_ Number\n",
      "count       0.0          0.0\n",
      "mean        NaN          NaN\n",
      "std         NaN          NaN\n",
      "min         NaN          NaN\n",
      "25%         NaN          NaN\n",
      "50%         NaN          NaN\n",
      "75%         NaN          NaN\n",
      "max         NaN          NaN\n"
     ]
    }
   ],
   "source": [
    "# 1.1 ĐỌC DỮ LIỆU TRA CỨU EXCEL\n",
    "sheet_name = \"Lookup\"\n",
    "source_df = pd.read_excel(source_path, sheet_name = sheet_name)\n",
    "print(f\"{'-'*10}Source_DataFrame:{'-'*10}\\n{source_df.shape}\")\n",
    "print(f\"{'-'*10}Source_DataFrame_describe:{'-'*10}\\n{source_df.describe()}\")"
   ]
  },
  {
   "cell_type": "code",
   "execution_count": 19,
   "id": "11f6182d-03a9-4685-9707-1cec33642b20",
   "metadata": {},
   "outputs": [],
   "source": [
    "source_dict = source_df.to_dict()\n",
    "# print(f\"{'-'*10}Source_Dictionary:{'-'*10}\\n{source_dict}\")\n",
    "# source_dict"
   ]
  },
  {
   "cell_type": "code",
   "execution_count": 10,
   "id": "eb84808f-c11b-4bf0-a959-b4dda8faddcc",
   "metadata": {},
   "outputs": [],
   "source": [
    "source_json_path = f\"{source_path[:-len(source_path.split('.')[-1])-1]}.json\"\n",
    "source_json = source_df.to_json(source_json_path,orient='records',indent = 4)"
   ]
  },
  {
   "cell_type": "code",
   "execution_count": 14,
   "id": "d1219fc7-83b0-4a8e-b76f-2f4ebd563b79",
   "metadata": {},
   "outputs": [
    {
     "name": "stdout",
     "output_type": "stream",
     "text": [
      "----------Revit_data_df_columns_cof_parameter_heads:----------\n",
      "['COF_CON__FormworkArea', 'COF_CON__Quantity', 'COF_CON__WIcompletePercent', 'COF_GEN__BottomElevation', 'COF_GEN__BottomPerimeter', 'COF_GEN__BuildingNumber', 'COF_GEN__Category', 'COF_GEN__Height', 'COF_GEN__Length', 'COF_GEN__Level', 'COF_GEN__LevelBelowElevation', 'COF_GEN__Perimeter', 'COF_GEN__ProjectNumber', 'COF_GEN__RepeatValue', 'COF_GEN__ScaffoldClearanceHeight', 'COF_GEN__Thickness', 'COF_GEN__UniqueID', 'COF_GEN__Width', 'COF_GEN__ZoneArea']\n",
      "----------Revit_data_df_columns_parameter_heads:----------\n",
      "['Absorptance', 'Area', 'BTL b', 'BTL h', 'B_Cot', 'Base Constraint', 'Base Extension Distance', 'Base Level', 'Base Offset', 'Base is Attached', 'Beam b', 'Beam h', 'BÃª tÃ´ng lÃ³t', 'CHIEU DAI COC', 'Category', 'Coarse Scale Fill Pattern', 'Column Location Mark', 'Column Style', 'Column b', 'Column h', 'Comments', 'Core Thickness', 'Cost', 'Cross-Section Rotation', 'Cut Length', 'DK', 'Default Elevation', 'Default Thickness', 'Design Option', 'Edition number', 'Elevation at Bottom', 'Elevation at Bottom Core', 'Elevation at Bottom Survey', 'Elevation at Top', 'Elevation at Top Core', 'Elevation at Top Survey', 'Elevation from Level', 'Enable Analytical Model', 'End Attachment Type', 'End Level Offset', 'Family', 'Family and Type', 'Foundation Thickness', 'Function', 'GiÃ¡ BÃª tÃ´ng', 'GiÃ¡ Cá»\\x91p pha', 'Ground Level', 'H_Cot', 'Height Offset From Level', 'Host', 'Host Id', 'Image', 'Join Status', 'Length', 'Level', 'Location Line', 'LotMong', 'Mark', 'Material', 'Moves With Grids', 'Moves With Nearby Elements', 'Offset_BT LÃ³t', 'OmniClass Number', 'OmniClass Title', 'Orientation', 'Perimeter', 'Phase Created', 'Phase Demolished', 'Rebar Cover', 'Rebar Cover - Bottom Face', 'Rebar Cover - Exterior Face', 'Rebar Cover - Interior Face', 'Rebar Cover - Other Faces', 'Rebar Cover - Top Face', 'Reference Level', 'Reference Level Elevation', 'Related to Mass', 'Room Bounding', 'Roughness', 'Schedule Level', 'Section Shape', 'Slope', 'Start Attachment Type', 'Start Level Offset', 'Structural', 'Structural Material', 'Structural Usage', 'Thick_BT LÃ³t', 'Thickness', 'Top Constraint', 'Top Extension Distance', 'Top Level', 'Top Offset', 'Top is Attached', 'Type', 'Type 1', 'Type 2', 'Type 3', 'Type Comments', 'Type Id', 'Type Image', 'Type Mark', 'TypeUniqueId', 'Unconnected Height', 'UniqueId', 'VL_BeTongLot', 'VL_BeTongMong', 'Volume', 'Width', 'Work Plane', 'Wrapping at Ends', 'Wrapping at Inserts', 'a', 'a_Col', 'b', 'b_BeRongLotMong', 'b_Col', 'h', 'h1', 'h2', 'h_BeTongLotMong', 't1', 't2', 'y Justification', 'y Offset Value', 'yz Justification', 'z Justification', 'z Offset Value', 'Ä\\x90Ã\\xa0o Ä\\x91áº¥t_Bá»\\x81 rá»\\x99ng chÃ¢n', 'Ä\\x90Ã\\xa0o Ä\\x91áº¥t_Bá»\\x81 rá»\\x99ng Ä\\x91á»\\x89nh', 'Ä\\x90Ã\\xa0o Ä\\x91áº¥t_GÃ³c má»\\x9f', 'Ä\\x90á»\\x99 sÃ¢u Ä\\x91Ã\\xa0o']\n"
     ]
    }
   ],
   "source": [
    "# 2. TẢI DỮ LIỆU REVIT\n",
    "\n",
    "revit_data_path = r\"C:\\Users\\tvpduy\\py_revit_QTO\\data\\ACR-QTO-ZZ-ZZ-ZZ-combine-210705.json\"\n",
    "revit_data_df = pd.read_json(revit_data_path)\n",
    "# print(f\"{'-'*10}Revit_data_df:{'-'*10}\\n{revit_data_df}\")\n",
    "\n",
    "# PARAMETER  COFICO\n",
    "cof_parameter_heads = sorted([c for c in revit_data_df.columns.tolist() if 'cof_' in c.lower()])\n",
    "print(f\"{'-'*10}Revit_data_df_columns_cof_parameter_heads:{'-'*10}\\n{cof_parameter_heads}\")\n",
    "\n",
    "# PARAMETER NOT COFICO\n",
    "parameter_heads = sorted([c for c in revit_data_df.columns.tolist() if not 'cof_' in c.lower()])\n",
    "print(f\"{'-'*10}Revit_data_df_columns_parameter_heads:{'-'*10}\\n{parameter_heads}\")\n"
   ]
  },
  {
   "cell_type": "code",
   "execution_count": 15,
   "id": "4db601ee-6093-487b-8422-a587b6897255",
   "metadata": {},
   "outputs": [
    {
     "name": "stdout",
     "output_type": "stream",
     "text": [
      "----------Revit_data_df:----------\n",
      "     COF_GEN__ProjectNumber COF_GEN__BuildingNumber COF_GEN__Category  \\\n",
      "0                       ACR                     PRO                GB   \n",
      "1                       ACR                     PRO                GB   \n",
      "2                       ACR                     PRO                GB   \n",
      "3                       ACR                     PRO                GB   \n",
      "4                       ACR                     PRO                GB   \n",
      "...                     ...                     ...               ...   \n",
      "1378                    ACR                     WAS               BTL   \n",
      "1379                    ACR                     WAS               BTL   \n",
      "1380                    ACR                     WAS               BTL   \n",
      "1381                    ACR                     WAS               BTL   \n",
      "1382                    ACR                     WAS               BTL   \n",
      "\n",
      "     COF_GEN__Level  Volume                Category           Type  \n",
      "0               01F  11.321      Structural Framing  GB1 (300x700)  \n",
      "1               01F   1.500      Structural Framing  GB4 (300x600)  \n",
      "2               01F   0.231      Structural Framing            SB1  \n",
      "3               01F   1.622      Structural Framing  GB1 (300x700)  \n",
      "4               01F   0.769      Structural Framing  GB4 (300x600)  \n",
      "...             ...     ...                     ...            ...  \n",
      "1378            01F   0.072  Structural Foundations         BTL M2  \n",
      "1379            01F   0.102  Structural Foundations         BTL M1  \n",
      "1380            01F   0.072  Structural Foundations         BTL M2  \n",
      "1381            01F   0.102  Structural Foundations         BTL M1  \n",
      "1382            01F   0.072  Structural Foundations         BTL M2  \n",
      "\n",
      "[1383 rows x 7 columns]\n"
     ]
    }
   ],
   "source": [
    "# 2.1 LÀM SẠCH DỮ LIỆU revit_data_df\n",
    "# TÊN CỘT CẦN GIỮ\n",
    "column_names = ['COF_GEN__ProjectNumber',\n",
    "               'COF_GEN__BuildingNumber',\n",
    "               'COF_GEN__Category',\n",
    "               'COF_GEN__Level',\n",
    "               'Volume',\n",
    "               'Category',\n",
    "               'Type']\n",
    "revit_data_df_small = revit_data_df[column_names]\n",
    "print(f\"{'-'*10}Revit_data_df:{'-'*10}\\n{revit_data_df_small}\")\n",
    "# json.loads()"
   ]
  }
 ],
 "metadata": {
  "kernelspec": {
   "display_name": "Python 3",
   "language": "python",
   "name": "python3"
  },
  "language_info": {
   "codemirror_mode": {
    "name": "ipython",
    "version": 3
   },
   "file_extension": ".py",
   "mimetype": "text/x-python",
   "name": "python",
   "nbconvert_exporter": "python",
   "pygments_lexer": "ipython3",
   "version": "3.9.2"
  }
 },
 "nbformat": 4,
 "nbformat_minor": 5
}
