{
 "cells": [
  {
   "cell_type": "code",
   "execution_count": 1,
   "id": "62dc97f1-2c6a-4108-8a0c-c4568baf6ce2",
   "metadata": {},
   "outputs": [],
   "source": [
    "import pandas as pd\n",
    "import numpy as np\n",
    "import os, json"
   ]
  },
  {
   "cell_type": "markdown",
   "id": "b5c5c917-cae6-4023-80ec-63e6d4ae96fa",
   "metadata": {},
   "source": [
    "# IN - TIẾN TRÌNH ĐẦU VÀO"
   ]
  },
  {
   "cell_type": "markdown",
   "id": "7fcc67da-79e6-47d1-8aa8-0a0383b2b5b1",
   "metadata": {},
   "source": [
    "### DỮ LIỆU ĐẦU VÀO:\n",
    "1. PHẢI LÀ CÁC TẬP TIN .txt  .json  .csv .xls\n",
    "2. THÔNG TIN TRONG CÁC TỆP DỮ LIỆU CHẮC CHẮN KHAI BÁO CHO DỰ ÁN CÔNG TRÌNH -CỤ THỂ LÀ THÔNG TIN PHÙ HỢP BIM\n",
    "3. TIÊU CHUẨN DỮ LIỆU PHÙ HỢP BIM:\n",
    "    3.0 CÁC TRƯỜNG THÔNG TIN CÁCH NHAU DẤU \"_\"\n",
    "    3.1 TÊN TẬP TIN DỮ LIỆU ĐƯỢC ĐẶT TÊN THEO CẤU TRÚC CÁC TRƯỜNG SAU\n",
    "        [MÃ DỰ ÁN]_[MÃ BỘ MÔN]_[MÃ KHU VỰC]_[MÃ TẦNG]_[MÃ NHÓM/PHÂN LOẠI]\n",
    "    3.2 CÁC TRƯỜNG KHÔNG ĐƯỢC BỎ TRỐNG, THỨ TỰ CÁC TRƯỜNG MÃ PHẢI CỐ ĐỊNH VỊ TRÍ:\n",
    "        KHÔNG XÁC ĐỊNH MÃ LÀ \"XX\"\n",
    "        TỔNG THỂ TOÀN BỘ MÃ LÀ \"ZZ\"\n",
    "    3.3 TOÀN BỘ NỘI DUNG CÁC TRƯỜNG ĐỀU IN HOA, in thường LÀ SAI THEO TIÊU CHUẨN NÀY\n",
    "    3.4 TOÀN BỘ NỘI DUNG CÁC TRƯỜNG ĐỀU KHÔNG ĐƯỢC SỬ DỤNG \n",
    "        TIẾNG VIỆT CÓ DẤU\n",
    "        CÁC KÝ TỰ ĐẶC BIỆT @ # / * - +\n",
    "    3.5 VÍ DỤ 1 TÊN TẬP TIN\n",
    "        CHG_S_BA_02F_CL.txt\n",
    "        Được dịch ra là: Tập tin dữ liệu cho : Dự án Cộng Hòa Garden, Bộ môn Kết cấu, Khu vực Hầm, Tầng Hầm 2, Nhóm cấu kiện Cột\n",
    "\n"
   ]
  },
  {
   "cell_type": "markdown",
   "id": "c3c4b7eb-544e-4f72-97c6-28e02750c665",
   "metadata": {},
   "source": [
    "# PROCESS - TIẾN TRÌNH XỬ LÍ"
   ]
  },
  {
   "cell_type": "code",
   "execution_count": 17,
   "id": "ce9d1b12-9db4-4e26-b8c1-d9e8d39a7576",
   "metadata": {},
   "outputs": [
    {
     "data": {
      "text/plain": [
       "{'UniqueID': [1, 2, 2, 3],\n",
       " 'Dự án': ['CHG', 'CHG', 'CHG', 'CHG'],\n",
       " 'Bộ môn': ['S', 'S', 'S', 'S'],\n",
       " 'Khu vực': ['BA', 'BA', 'BA', 'BA'],\n",
       " 'Tầng': ['02B', '02B', '02B', '02B'],\n",
       " 'Nhóm': ['Columns', 'Columns', 'Columns', 'Columns'],\n",
       " 'Tên': ['A', 'B', 'C', 'D'],\n",
       " 'Khối tích': [1, 2, 3, 4]}"
      ]
     },
     "execution_count": 17,
     "metadata": {},
     "output_type": "execute_result"
    }
   ],
   "source": [
    "#SERIE DICTIONARY\n",
    "\n",
    "series = {\n",
    "    \"UniqueID\":[1,2,2,3],\n",
    "    \"Dự án\":['CHG']*4,\n",
    "    \"Bộ môn\":['S']*4,\n",
    "    \"Khu vực\":['BA']*4,\n",
    "    \"Tầng\":['02B']*4,\n",
    "    \"Nhóm\":['Columns']*4,\n",
    "    \"Tên\":['A','B','C','D'],\n",
    "    \"Khối tích\":[1,2,3,4]\n",
    "}\n",
    "series"
   ]
  },
  {
   "cell_type": "code",
   "execution_count": 15,
   "id": "513386f8-3a4d-44c0-a607-243b1f2879e6",
   "metadata": {},
   "outputs": [
    {
     "data": {
      "text/plain": [
       "[[1, 2, 2, 3],\n",
       " ['CHG', 'CHG', 'CHG', 'CHG'],\n",
       " ['S', 'S', 'S', 'S'],\n",
       " ['BA', 'BA', 'BA', 'BA'],\n",
       " ['02B', '02B', '02B', '02B'],\n",
       " ['Columns', 'Columns', 'Columns', 'Columns'],\n",
       " ['A', 'B', 'C', 'D'],\n",
       " [1, 2, 3, 4]]"
      ]
     },
     "execution_count": 15,
     "metadata": {},
     "output_type": "execute_result"
    }
   ],
   "source": [
    "# SERIES LIST LIST\n",
    "series2 = [[1,2,2,3],\n",
    "           ['CHG']*4,\n",
    "           ['S']*4,\n",
    "           ['BA']*4,\n",
    "           ['02B']*4,\n",
    "           ['Columns']*4,\n",
    "           ['A','B','C','D'],\n",
    "           [1,2,3,4]\n",
    "          ]\n",
    "series2"
   ]
  },
  {
   "cell_type": "code",
   "execution_count": 3,
   "id": "8b6e3ebf-9cb8-409d-865d-24f8b21be085",
   "metadata": {},
   "outputs": [
    {
     "data": {
      "text/html": [
       "<div>\n",
       "<style scoped>\n",
       "    .dataframe tbody tr th:only-of-type {\n",
       "        vertical-align: middle;\n",
       "    }\n",
       "\n",
       "    .dataframe tbody tr th {\n",
       "        vertical-align: top;\n",
       "    }\n",
       "\n",
       "    .dataframe thead th {\n",
       "        text-align: right;\n",
       "    }\n",
       "</style>\n",
       "<table border=\"1\" class=\"dataframe\">\n",
       "  <thead>\n",
       "    <tr style=\"text-align: right;\">\n",
       "      <th></th>\n",
       "      <th>UniqueID</th>\n",
       "      <th>Dự án</th>\n",
       "      <th>Bộ môn</th>\n",
       "      <th>Khu vực</th>\n",
       "      <th>Tầng</th>\n",
       "      <th>Nhóm</th>\n",
       "      <th>Tên</th>\n",
       "      <th>Khối tích</th>\n",
       "    </tr>\n",
       "  </thead>\n",
       "  <tbody>\n",
       "    <tr>\n",
       "      <th>0</th>\n",
       "      <td>1</td>\n",
       "      <td>CHG</td>\n",
       "      <td>S</td>\n",
       "      <td>BA</td>\n",
       "      <td>02B</td>\n",
       "      <td>Columns</td>\n",
       "      <td>A</td>\n",
       "      <td>1</td>\n",
       "    </tr>\n",
       "    <tr>\n",
       "      <th>1</th>\n",
       "      <td>2</td>\n",
       "      <td>CHG</td>\n",
       "      <td>S</td>\n",
       "      <td>BA</td>\n",
       "      <td>02B</td>\n",
       "      <td>Columns</td>\n",
       "      <td>B</td>\n",
       "      <td>2</td>\n",
       "    </tr>\n",
       "    <tr>\n",
       "      <th>2</th>\n",
       "      <td>2</td>\n",
       "      <td>CHG</td>\n",
       "      <td>S</td>\n",
       "      <td>BA</td>\n",
       "      <td>02B</td>\n",
       "      <td>Columns</td>\n",
       "      <td>C</td>\n",
       "      <td>3</td>\n",
       "    </tr>\n",
       "    <tr>\n",
       "      <th>3</th>\n",
       "      <td>3</td>\n",
       "      <td>CHG</td>\n",
       "      <td>S</td>\n",
       "      <td>BA</td>\n",
       "      <td>02B</td>\n",
       "      <td>Columns</td>\n",
       "      <td>D</td>\n",
       "      <td>4</td>\n",
       "    </tr>\n",
       "  </tbody>\n",
       "</table>\n",
       "</div>"
      ],
      "text/plain": [
       "   UniqueID Dự án Bộ môn Khu vực Tầng     Nhóm Tên  Khối tích\n",
       "0         1   CHG      S      BA  02B  Columns   A          1\n",
       "1         2   CHG      S      BA  02B  Columns   B          2\n",
       "2         2   CHG      S      BA  02B  Columns   C          3\n",
       "3         3   CHG      S      BA  02B  Columns   D          4"
      ]
     },
     "execution_count": 3,
     "metadata": {},
     "output_type": "execute_result"
    }
   ],
   "source": [
    "df = pd.DataFrame(series)\n",
    "df"
   ]
  },
  {
   "cell_type": "code",
   "execution_count": 4,
   "id": "f9fefdc1-02c3-4160-a13c-dd9df03b3a65",
   "metadata": {},
   "outputs": [
    {
     "name": "stdout",
     "output_type": "stream",
     "text": [
      "0\n",
      "1\n",
      "2\n",
      "3\n"
     ]
    }
   ],
   "source": [
    "idx = df.index\n",
    "\n",
    "for i in idx:\n",
    "    print (i)"
   ]
  },
  {
   "cell_type": "code",
   "execution_count": 5,
   "id": "c5c54da7-0a40-4f3f-8faa-c89be7e9629b",
   "metadata": {
    "tags": []
   },
   "outputs": [
    {
     "data": {
      "text/plain": [
       "array([False, False, False, False])"
      ]
     },
     "execution_count": 5,
     "metadata": {},
     "output_type": "execute_result"
    }
   ],
   "source": [
    "flagDup = idx.duplicated()\n",
    "flagDup"
   ]
  },
  {
   "cell_type": "code",
   "execution_count": 6,
   "id": "5459b489-2fd6-4827-857e-7e3975d903db",
   "metadata": {},
   "outputs": [
    {
     "data": {
      "text/html": [
       "<div>\n",
       "<style scoped>\n",
       "    .dataframe tbody tr th:only-of-type {\n",
       "        vertical-align: middle;\n",
       "    }\n",
       "\n",
       "    .dataframe tbody tr th {\n",
       "        vertical-align: top;\n",
       "    }\n",
       "\n",
       "    .dataframe thead th {\n",
       "        text-align: right;\n",
       "    }\n",
       "</style>\n",
       "<table border=\"1\" class=\"dataframe\">\n",
       "  <thead>\n",
       "    <tr style=\"text-align: right;\">\n",
       "      <th></th>\n",
       "      <th>UniqueID</th>\n",
       "      <th>Dự án</th>\n",
       "      <th>Bộ môn</th>\n",
       "      <th>Khu vực</th>\n",
       "      <th>Tầng</th>\n",
       "      <th>Nhóm</th>\n",
       "      <th>Tên</th>\n",
       "      <th>Khối tích</th>\n",
       "    </tr>\n",
       "  </thead>\n",
       "  <tbody>\n",
       "    <tr>\n",
       "      <th>0</th>\n",
       "      <td>1</td>\n",
       "      <td>CHG</td>\n",
       "      <td>S</td>\n",
       "      <td>BA</td>\n",
       "      <td>02B</td>\n",
       "      <td>Columns</td>\n",
       "      <td>A</td>\n",
       "      <td>1</td>\n",
       "    </tr>\n",
       "    <tr>\n",
       "      <th>1</th>\n",
       "      <td>2</td>\n",
       "      <td>CHG</td>\n",
       "      <td>S</td>\n",
       "      <td>BA</td>\n",
       "      <td>02B</td>\n",
       "      <td>Columns</td>\n",
       "      <td>B</td>\n",
       "      <td>2</td>\n",
       "    </tr>\n",
       "    <tr>\n",
       "      <th>3</th>\n",
       "      <td>3</td>\n",
       "      <td>CHG</td>\n",
       "      <td>S</td>\n",
       "      <td>BA</td>\n",
       "      <td>02B</td>\n",
       "      <td>Columns</td>\n",
       "      <td>D</td>\n",
       "      <td>4</td>\n",
       "    </tr>\n",
       "  </tbody>\n",
       "</table>\n",
       "</div>"
      ],
      "text/plain": [
       "   UniqueID Dự án Bộ môn Khu vực Tầng     Nhóm Tên  Khối tích\n",
       "0         1   CHG      S      BA  02B  Columns   A          1\n",
       "1         2   CHG      S      BA  02B  Columns   B          2\n",
       "3         3   CHG      S      BA  02B  Columns   D          4"
      ]
     },
     "execution_count": 6,
     "metadata": {},
     "output_type": "execute_result"
    }
   ],
   "source": [
    "df.drop_duplicates(\"UniqueID\",inplace = True)\n",
    "df"
   ]
  },
  {
   "cell_type": "code",
   "execution_count": 7,
   "id": "cc6e2d49-6eb8-4b06-983d-e7a4232b406f",
   "metadata": {},
   "outputs": [],
   "source": [
    "df2 = df.reindex(range(df.shape[0]),method = 'bfill') # REINDEX"
   ]
  },
  {
   "cell_type": "code",
   "execution_count": 8,
   "id": "309fda8a-df50-449f-984e-ae101eb8d0fc",
   "metadata": {},
   "outputs": [
    {
     "data": {
      "text/html": [
       "<div>\n",
       "<style scoped>\n",
       "    .dataframe tbody tr th:only-of-type {\n",
       "        vertical-align: middle;\n",
       "    }\n",
       "\n",
       "    .dataframe tbody tr th {\n",
       "        vertical-align: top;\n",
       "    }\n",
       "\n",
       "    .dataframe thead th {\n",
       "        text-align: right;\n",
       "    }\n",
       "</style>\n",
       "<table border=\"1\" class=\"dataframe\">\n",
       "  <thead>\n",
       "    <tr style=\"text-align: right;\">\n",
       "      <th></th>\n",
       "      <th>Bộ môn</th>\n",
       "      <th>Tầng</th>\n",
       "    </tr>\n",
       "  </thead>\n",
       "  <tbody>\n",
       "    <tr>\n",
       "      <th>0</th>\n",
       "      <td>S</td>\n",
       "      <td>02B</td>\n",
       "    </tr>\n",
       "    <tr>\n",
       "      <th>1</th>\n",
       "      <td>S</td>\n",
       "      <td>02B</td>\n",
       "    </tr>\n",
       "    <tr>\n",
       "      <th>2</th>\n",
       "      <td>S</td>\n",
       "      <td>02B</td>\n",
       "    </tr>\n",
       "  </tbody>\n",
       "</table>\n",
       "</div>"
      ],
      "text/plain": [
       "  Bộ môn Tầng\n",
       "0      S  02B\n",
       "1      S  02B\n",
       "2      S  02B"
      ]
     },
     "execution_count": 8,
     "metadata": {},
     "output_type": "execute_result"
    }
   ],
   "source": [
    "df2.filter(items = [\"Bộ môn\",\"Tầng\"])# lỌC CỘT"
   ]
  },
  {
   "cell_type": "code",
   "execution_count": 9,
   "id": "166d8e46-76f5-45f8-bec4-1c4debb1f51f",
   "metadata": {},
   "outputs": [
    {
     "data": {
      "text/html": [
       "<div>\n",
       "<style scoped>\n",
       "    .dataframe tbody tr th:only-of-type {\n",
       "        vertical-align: middle;\n",
       "    }\n",
       "\n",
       "    .dataframe tbody tr th {\n",
       "        vertical-align: top;\n",
       "    }\n",
       "\n",
       "    .dataframe thead th {\n",
       "        text-align: right;\n",
       "    }\n",
       "</style>\n",
       "<table border=\"1\" class=\"dataframe\">\n",
       "  <thead>\n",
       "    <tr style=\"text-align: right;\">\n",
       "      <th></th>\n",
       "      <th>Dự án</th>\n",
       "    </tr>\n",
       "  </thead>\n",
       "  <tbody>\n",
       "    <tr>\n",
       "      <th>0</th>\n",
       "      <td>CHG</td>\n",
       "    </tr>\n",
       "    <tr>\n",
       "      <th>1</th>\n",
       "      <td>CHG</td>\n",
       "    </tr>\n",
       "    <tr>\n",
       "      <th>2</th>\n",
       "      <td>CHG</td>\n",
       "    </tr>\n",
       "  </tbody>\n",
       "</table>\n",
       "</div>"
      ],
      "text/plain": [
       "  Dự án\n",
       "0   CHG\n",
       "1   CHG\n",
       "2   CHG"
      ]
     },
     "execution_count": 9,
     "metadata": {},
     "output_type": "execute_result"
    }
   ],
   "source": [
    "df2.filter(regex = '^D',axis = 1)# lỌC CỘT regex"
   ]
  },
  {
   "cell_type": "code",
   "execution_count": 10,
   "id": "35a6026a-9ada-40e3-b939-2ba62c1c8fb8",
   "metadata": {},
   "outputs": [
    {
     "data": {
      "text/html": [
       "<div>\n",
       "<style scoped>\n",
       "    .dataframe tbody tr th:only-of-type {\n",
       "        vertical-align: middle;\n",
       "    }\n",
       "\n",
       "    .dataframe tbody tr th {\n",
       "        vertical-align: top;\n",
       "    }\n",
       "\n",
       "    .dataframe thead th {\n",
       "        text-align: right;\n",
       "    }\n",
       "</style>\n",
       "<table border=\"1\" class=\"dataframe\">\n",
       "  <thead>\n",
       "    <tr style=\"text-align: right;\">\n",
       "      <th></th>\n",
       "      <th>UniqueID</th>\n",
       "      <th>Dự án</th>\n",
       "      <th>Bộ môn</th>\n",
       "      <th>Khu vực</th>\n",
       "      <th>Tầng</th>\n",
       "      <th>Nhóm</th>\n",
       "      <th>Tên</th>\n",
       "      <th>Khối tích</th>\n",
       "    </tr>\n",
       "  </thead>\n",
       "  <tbody>\n",
       "    <tr>\n",
       "      <th>0</th>\n",
       "      <td>1</td>\n",
       "      <td>CHG</td>\n",
       "      <td>S</td>\n",
       "      <td>BA</td>\n",
       "      <td>02B</td>\n",
       "      <td>Columns</td>\n",
       "      <td>A</td>\n",
       "      <td>1</td>\n",
       "    </tr>\n",
       "  </tbody>\n",
       "</table>\n",
       "</div>"
      ],
      "text/plain": [
       "   UniqueID Dự án Bộ môn Khu vực Tầng     Nhóm Tên  Khối tích\n",
       "0         1   CHG      S      BA  02B  Columns   A          1"
      ]
     },
     "execution_count": 10,
     "metadata": {},
     "output_type": "execute_result"
    }
   ],
   "source": [
    "df2.filter(like = '0',axis = 0) # lọc hàng"
   ]
  },
  {
   "cell_type": "code",
   "execution_count": 58,
   "id": "9be27fbe-54bf-493b-aeb9-94bb0985ee75",
   "metadata": {},
   "outputs": [
    {
     "data": {
      "text/plain": [
       "'[{\"UniqueID\": 1, \"Dự án\": \"CHG\", \"Bộ môn\": \"S\", \"Khu vực\": \"BA\", \"Tầng\": \"02B\", \"Nhóm\": \"Columns\", \"Tên\": \"A\", \"Khối tích\": 1}, {\"UniqueID\": 2, \"Dự án\": \"CHG\", \"Bộ môn\": \"S\", \"Khu vực\": \"BA\", \"Tầng\": \"02B\", \"Nhóm\": \"Columns\", \"Tên\": \"B\", \"Khối tích\": 2}, {\"UniqueID\": 3, \"Dự án\": \"CHG\", \"Bộ môn\": \"S\", \"Khu vực\": \"BA\", \"Tầng\": \"02B\", \"Nhóm\": \"Columns\", \"Tên\": \"D\", \"Khối tích\": 4}]'"
      ]
     },
     "execution_count": 58,
     "metadata": {},
     "output_type": "execute_result"
    }
   ],
   "source": [
    "# dic = json.dumps(json.loads(df.to_json(orient = 'split')),indent = 4)\n",
    "\"\"\"orient\n",
    "‘split’ : dict like {‘index’ -> [index], ‘columns’ -> [columns], ‘data’ -> [values]}\n",
    "‘records’ : list like [{column -> value}, … , {column -> value}]\n",
    "‘index’ : dict like {index -> {column -> value}}\n",
    "‘columns’ : dict like {column -> {index -> value}}\n",
    "‘values’ : just the values array\n",
    "‘table’ : dict like {‘schema’: {schema}, ‘data’: {data}}\n",
    "Describing the data, where data component is like\n",
    "\"\"\"\n",
    "dic = json.loads(df.to_json(orient = 'records')) #### ==> records giúp phân tách thành dictionary hướng đối tượng DÒNG\n",
    "json.dumps(dic, ensure_ascii=False)#,indent=4, sort_keys=True) # "
   ]
  },
  {
   "cell_type": "markdown",
   "id": "07e62d87-0bda-472b-bce1-309ec6062234",
   "metadata": {},
   "source": [
    "# OUT - TIẾN TRÌNH ĐẦU RA"
   ]
  },
  {
   "cell_type": "code",
   "execution_count": 56,
   "id": "8bcb1c6c-e2c0-48c3-9eb6-802f53216cf7",
   "metadata": {},
   "outputs": [
    {
     "name": "stdout",
     "output_type": "stream",
     "text": [
      "Thành công ghi dữ liệu JSON\n"
     ]
    }
   ],
   "source": [
    "with open(\"pandaTojosn.json\", \"w\", encoding = \"utf-8\") as f:\n",
    "    f.write(json.dumps(dic, ensure_ascii=False, indent=4, sort_keys=True))\n",
    "    print(\"Thành công ghi dữ liệu JSON\")"
   ]
  }
 ],
 "metadata": {
  "kernelspec": {
   "display_name": "Python 3",
   "language": "python",
   "name": "python3"
  },
  "language_info": {
   "codemirror_mode": {
    "name": "ipython",
    "version": 3
   },
   "file_extension": ".py",
   "mimetype": "text/x-python",
   "name": "python",
   "nbconvert_exporter": "python",
   "pygments_lexer": "ipython3",
   "version": "3.9.1"
  }
 },
 "nbformat": 4,
 "nbformat_minor": 5
}
