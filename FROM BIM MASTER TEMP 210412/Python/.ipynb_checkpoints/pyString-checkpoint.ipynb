{
 "cells": [
  {
   "cell_type": "markdown",
   "id": "423336a2-0529-41e6-97af-78f154f76230",
   "metadata": {},
   "source": [
    "-----SPLIT"
   ]
  },
  {
   "cell_type": "code",
   "execution_count": 1,
   "id": "d5a0963c-e7f4-40fc-b2f0-e5f83ae2229e",
   "metadata": {},
   "outputs": [
    {
     "name": "stdout",
     "output_type": "stream",
     "text": [
      "['abcd']\n"
     ]
    }
   ],
   "source": [
    "text = \"abcd\"\n",
    "print(text.split(\",\"))"
   ]
  },
  {
   "cell_type": "code",
   "execution_count": null,
   "id": "211fbf2e-d472-4bf8-8ff6-40c774279e50",
   "metadata": {},
   "outputs": [],
   "source": []
  }
 ],
 "metadata": {
  "kernelspec": {
   "display_name": "Python 3",
   "language": "python",
   "name": "python3"
  },
  "language_info": {
   "codemirror_mode": {
    "name": "ipython",
    "version": 3
   },
   "file_extension": ".py",
   "mimetype": "text/x-python",
   "name": "python",
   "nbconvert_exporter": "python",
   "pygments_lexer": "ipython3",
   "version": "3.9.1"
  }
 },
 "nbformat": 4,
 "nbformat_minor": 5
}
