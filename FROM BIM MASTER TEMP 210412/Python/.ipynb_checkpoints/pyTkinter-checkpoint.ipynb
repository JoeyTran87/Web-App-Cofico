{
 "cells": [
  {
   "cell_type": "code",
   "execution_count": 9,
   "id": "d807232f-660b-4255-acab-1b7a1ac26e21",
   "metadata": {},
   "outputs": [],
   "source": [
    "import tkinter as tk\n",
    "from tkinter import *"
   ]
  },
  {
   "cell_type": "code",
   "execution_count": 19,
   "id": "98a00fd1-e013-490d-83c2-a437338cfa02",
   "metadata": {},
   "outputs": [],
   "source": [
    "class Application (tk.Frame):\n",
    "    def __init__(self, master = None):\n",
    "        super().__init__(master)\n",
    "        self.master = master\n",
    "        self.pack()\n",
    "        self.create_widgets()\n",
    "    def create_widgets(self):\n",
    "        self.hi_there = tk.Button(self)\n",
    "        self.hi_there[\"text\"] = \"Hello work\\nClick me\"\n",
    "        self.hi_there['command'] = self.say_hi\n",
    "        self.hi_there.pack(side = \"top\")\n",
    "        \n",
    "        self.quit = tk.Button(self, text = \"QUIT\",fg = \"red\",bg = \"yellow\",command = self.master.destroy)\n",
    "        self.quit.pack(side=\"bottom\")\n",
    "        self.quit.pack(expand=2)\n",
    "    def say_hi(self):\n",
    "        print(\"hi there, everyone\")\n",
    "    \n",
    "root = tk.Tk()\n",
    "app = Application(master = root)\n",
    "app.mainloop()"
   ]
  }
 ],
 "metadata": {
  "kernelspec": {
   "display_name": "Python 3",
   "language": "python",
   "name": "python3"
  },
  "language_info": {
   "codemirror_mode": {
    "name": "ipython",
    "version": 3
   },
   "file_extension": ".py",
   "mimetype": "text/x-python",
   "name": "python",
   "nbconvert_exporter": "python",
   "pygments_lexer": "ipython3",
   "version": "3.9.1"
  }
 },
 "nbformat": 4,
 "nbformat_minor": 5
}
