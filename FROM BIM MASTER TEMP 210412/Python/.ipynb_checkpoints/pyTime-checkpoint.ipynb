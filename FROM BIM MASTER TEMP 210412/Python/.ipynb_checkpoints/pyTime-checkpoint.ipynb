{
 "cells": [
  {
   "cell_type": "code",
   "execution_count": 1,
   "id": "2eb37bda-ca9a-42c9-887b-514dd07e8f6d",
   "metadata": {},
   "outputs": [],
   "source": [
    "import time, os\n",
    "import calendar"
   ]
  },
  {
   "cell_type": "code",
   "execution_count": 11,
   "id": "2055f3f8-697a-471f-bb4f-58b9815eae19",
   "metadata": {},
   "outputs": [
    {
     "data": {
      "text/plain": [
       "'Tue May 25 23:24:44 2021'"
      ]
     },
     "execution_count": 11,
     "metadata": {},
     "output_type": "execute_result"
    }
   ],
   "source": [
    "ticks = time.time() # TIME RIGHT NOW\n",
    "nowIs = time.ctime(ticks) # FORMAT TICK TO READABLE TIME\n",
    "nowIs"
   ]
  },
  {
   "cell_type": "code",
   "execution_count": 3,
   "id": "399227f1-5541-4c91-92b4-addcf4dd891f",
   "metadata": {},
   "outputs": [
    {
     "data": {
      "text/plain": [
       "time.struct_time(tm_year=1987, tm_mon=12, tm_mday=6, tm_hour=0, tm_min=0, tm_sec=0, tm_wday=6, tm_yday=340, tm_isdst=-1)"
      ]
     },
     "execution_count": 3,
     "metadata": {},
     "output_type": "execute_result"
    }
   ],
   "source": [
    "time.strptime(\"06 dec 87\", \"%d %b %y\")   "
   ]
  },
  {
   "cell_type": "code",
   "execution_count": 4,
   "id": "3153b0e6-a9a5-4585-b4b2-e9248e0dac9f",
   "metadata": {},
   "outputs": [
    {
     "name": "stdout",
     "output_type": "stream",
     "text": [
      "Local current time : time.struct_time(tm_year=2021, tm_mon=5, tm_mday=25, tm_hour=23, tm_min=22, tm_sec=5, tm_wday=1, tm_yday=145, tm_isdst=0)\n"
     ]
    }
   ],
   "source": [
    "localtime = time.localtime(time.time()) # LOCAL TIME\n",
    "print (\"Local current time :\", localtime)"
   ]
  },
  {
   "cell_type": "code",
   "execution_count": 5,
   "id": "eeb019bd-06c4-49af-acae-160c488cef77",
   "metadata": {},
   "outputs": [
    {
     "name": "stdout",
     "output_type": "stream",
     "text": [
      "Local current time : Tue May 25 23:22:05 2021\n"
     ]
    }
   ],
   "source": [
    "localtime = time.asctime( time.localtime(time.time()) ) #FORMAT TIME\n",
    "print( \"Local current time :\", localtime)"
   ]
  },
  {
   "cell_type": "code",
   "execution_count": 6,
   "id": "57de3dad-8c8e-416b-a9d6-51f8ebff0c5d",
   "metadata": {},
   "outputs": [
    {
     "name": "stdout",
     "output_type": "stream",
     "text": [
      "Here is the calendar:\n",
      "    January 2008\n",
      "Mo Tu We Th Fr Sa Su\n",
      "    1  2  3  4  5  6\n",
      " 7  8  9 10 11 12 13\n",
      "14 15 16 17 18 19 20\n",
      "21 22 23 24 25 26 27\n",
      "28 29 30 31\n",
      "\n"
     ]
    }
   ],
   "source": [
    "cal = calendar.month(2008, 1)\n",
    "print (\"Here is the calendar:\")\n",
    "print (cal)"
   ]
  },
  {
   "cell_type": "code",
   "execution_count": 9,
   "id": "6ff2b539-d2fb-471f-9df3-1be287f19c4e",
   "metadata": {},
   "outputs": [
    {
     "name": "stdout",
     "output_type": "stream",
     "text": [
      "Local time: Thu Dec 27 22:49:29 2018\n"
     ]
    }
   ],
   "source": [
    "seconds = 1545925769.9618232\n",
    "local_time = time.ctime(seconds)\n",
    "print(\"Local time:\", local_time)"
   ]
  },
  {
   "cell_type": "code",
   "execution_count": 12,
   "id": "c206c413-a620-4490-aca6-ed744af104b0",
   "metadata": {},
   "outputs": [
    {
     "name": "stdout",
     "output_type": "stream",
     "text": [
      "This is printed immediately. 1621959951.0967152\n",
      "This is printed after 2.4 seconds. 1621959953.498726\n"
     ]
    }
   ],
   "source": [
    "print(\"This is printed immediately.\",time.time())\n",
    "time.sleep(2.4) #DELAY TIME\n",
    "print(\"This is printed after 2.4 seconds.\",time.time())"
   ]
  },
  {
   "cell_type": "code",
   "execution_count": 13,
   "id": "2d18d359-3a16-4b9b-a25b-adc00e5ad3e2",
   "metadata": {},
   "outputs": [
    {
     "name": "stdout",
     "output_type": "stream",
     "text": [
      "Local time: 1545961444.0\n"
     ]
    }
   ],
   "source": [
    "t = (2018, 12, 28, 8, 44, 4, 4, 362, 0)\n",
    "\n",
    "local_time = time.mktime(t)\n",
    "print(\"Local time:\", local_time)"
   ]
  },
  {
   "cell_type": "code",
   "execution_count": 14,
   "id": "799b37db-2b6a-4acf-bdfc-bc2805cbf056",
   "metadata": {},
   "outputs": [
    {
     "name": "stdout",
     "output_type": "stream",
     "text": [
      "t1:  time.struct_time(tm_year=2018, tm_mon=12, tm_mday=27, tm_hour=22, tm_min=49, tm_sec=29, tm_wday=3, tm_yday=361, tm_isdst=0)\n",
      "\\s: 1545925769\n"
     ]
    }
   ],
   "source": [
    "seconds = 1545925769\n",
    "\n",
    "# returns struct_time\n",
    "t = time.localtime(seconds)\n",
    "print(\"t1: \", t)\n",
    "\n",
    "# returns seconds from struct_time\n",
    "s = time.mktime(t)\n",
    "print(\"\\s:\", seconds)"
   ]
  },
  {
   "cell_type": "code",
   "execution_count": 15,
   "id": "27474dd9-5bf4-4d70-9959-d84a98da57d5",
   "metadata": {},
   "outputs": [
    {
     "name": "stdout",
     "output_type": "stream",
     "text": [
      "05/25/2021, 23:28:07\n"
     ]
    }
   ],
   "source": [
    "named_tuple = time.localtime() # get struct_time\n",
    "time_string = time.strftime(\"%m/%d/%Y, %H:%M:%S\", named_tuple)\n",
    "\n",
    "print(time_string)"
   ]
  },
  {
   "cell_type": "code",
   "execution_count": null,
   "id": "16e265d1-e898-43da-82e1-ab29e44d374e",
   "metadata": {},
   "outputs": [],
   "source": []
  }
 ],
 "metadata": {
  "kernelspec": {
   "display_name": "Python 3",
   "language": "python",
   "name": "python3"
  },
  "language_info": {
   "codemirror_mode": {
    "name": "ipython",
    "version": 3
   },
   "file_extension": ".py",
   "mimetype": "text/x-python",
   "name": "python",
   "nbconvert_exporter": "python",
   "pygments_lexer": "ipython3",
   "version": "3.9.1"
  }
 },
 "nbformat": 4,
 "nbformat_minor": 5
}
