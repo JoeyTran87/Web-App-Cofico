{
 "cells": [
  {
   "cell_type": "code",
   "execution_count": 2,
   "id": "1990f11d-284e-431b-a43d-66ce29d7075a",
   "metadata": {},
   "outputs": [],
   "source": [
    "import py2exe"
   ]
  },
  {
   "cell_type": "code",
   "execution_count": 3,
   "id": "ea490f5f-377f-4312-b16c-9f1479d1c5fa",
   "metadata": {},
   "outputs": [
    {
     "name": "stdout",
     "output_type": "stream",
     "text": [
      "Hello\n"
     ]
    }
   ],
   "source": [
    "print(\"Hello\")"
   ]
  }
 ],
 "metadata": {
  "kernelspec": {
   "display_name": "Python 3",
   "language": "python",
   "name": "python3"
  },
  "language_info": {
   "codemirror_mode": {
    "name": "ipython",
    "version": 3
   },
   "file_extension": ".py",
   "mimetype": "text/x-python",
   "name": "python",
   "nbconvert_exporter": "python",
   "pygments_lexer": "ipython3",
   "version": "3.9.1"
  }
 },
 "nbformat": 4,
 "nbformat_minor": 5
}
