{
 "cells": [
  {
   "cell_type": "markdown",
   "id": "b7953bbc-002c-43c4-b717-3fe39c74634e",
   "metadata": {},
   "source": [
    "LAB OF PYTHON MATH"
   ]
  },
  {
   "cell_type": "markdown",
   "id": "3ccd2b4c-d870-4c66-8b95-e41506c3804f",
   "metadata": {},
   "source": [
    "Import module"
   ]
  },
  {
   "cell_type": "code",
   "execution_count": 1,
   "id": "88a355d5-c974-42a7-a818-9b41bdd0dfc2",
   "metadata": {},
   "outputs": [],
   "source": [
    "import math"
   ]
  },
  {
   "cell_type": "markdown",
   "id": "50058b12-d6b2-4dfa-8b71-0fe621893685",
   "metadata": {},
   "source": [
    "From Radian to Degree"
   ]
  },
  {
   "cell_type": "code",
   "execution_count": 2,
   "id": "cdd5d166-c63f-41e9-a0af-0863c71bc47c",
   "metadata": {},
   "outputs": [],
   "source": [
    "degreeNumber = math.degrees(math.pi/3)"
   ]
  },
  {
   "cell_type": "markdown",
   "id": "b8febbbd-02d3-4dd8-9eaa-e5eaaad9d6dd",
   "metadata": {},
   "source": [
    "From Degree to Radiant"
   ]
  },
  {
   "cell_type": "code",
   "execution_count": 3,
   "id": "c4df20d5-c8b0-4c15-8fc5-31a871c1fc46",
   "metadata": {},
   "outputs": [],
   "source": [
    "radNumber = math.radians(45)"
   ]
  },
  {
   "cell_type": "markdown",
   "id": "68ddc5e1-aa6a-4381-83ea-d8260265884b",
   "metadata": {},
   "source": [
    "Calculate Tan from 2 point x and y then Degree"
   ]
  },
  {
   "cell_type": "code",
   "execution_count": 39,
   "id": "dd47b795-0966-4804-8459-fd9af8982b08",
   "metadata": {},
   "outputs": [
    {
     "name": "stdout",
     "output_type": "stream",
     "text": [
      "68.0\n"
     ]
    }
   ],
   "source": [
    "x1 = 0\n",
    "y1 = 0\n",
    "x2 = 10#1*3**0.5 # 1 nhân căn 2 của 3\n",
    "y2 = 25\n",
    "tan = abs(y1-y2)/abs(x1-x2)\n",
    "\n",
    "r = -1\n",
    "\n",
    "print (round(math.degrees(math.atan(tan)),r))\n",
    "#30"
   ]
  },
  {
   "cell_type": "code",
   "execution_count": null,
   "id": "a65f60f6-feef-43b7-acd7-9fd54deb8119",
   "metadata": {},
   "outputs": [],
   "source": []
  },
  {
   "cell_type": "code",
   "execution_count": null,
   "id": "815ac235-86e6-4bbe-af83-2a6b38be8ff5",
   "metadata": {},
   "outputs": [],
   "source": []
  }
 ],
 "metadata": {
  "kernelspec": {
   "display_name": "Python 3",
   "language": "python",
   "name": "python3"
  },
  "language_info": {
   "codemirror_mode": {
    "name": "ipython",
    "version": 3
   },
   "file_extension": ".py",
   "mimetype": "text/x-python",
   "name": "python",
   "nbconvert_exporter": "python",
   "pygments_lexer": "ipython3",
   "version": "3.9.1"
  }
 },
 "nbformat": 4,
 "nbformat_minor": 5
}
