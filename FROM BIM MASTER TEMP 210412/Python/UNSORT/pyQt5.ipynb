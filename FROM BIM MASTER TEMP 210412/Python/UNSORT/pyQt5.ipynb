{
 "cells": [
  {
   "cell_type": "code",
   "execution_count": 4,
   "id": "1d830b88-b86c-4455-b2a5-b9d4697c8d24",
   "metadata": {},
   "outputs": [],
   "source": [
    "#https://build-system.fman.io/pyqt5-tutorial\n",
    "import PyQt5\n",
    "from PyQt5.QtWidgets import QApplication, QWidget, QPushButton, QVBoxLayout\n",
    "from PyQt5.QtCore import Qt\n",
    "from PyQt5.QtGui import QPalette\n",
    "from PyQt5.QtWidgets import QApplication, QPushButton\n",
    "from PyQt5.QtWidgets import *\n",
    "\n",
    "import fbs"
   ]
  },
  {
   "cell_type": "code",
   "execution_count": 2,
   "id": "9e525a78-4c68-4fb1-8531-1e93871f7115",
   "metadata": {
    "tags": []
   },
   "outputs": [],
   "source": [
    "app = QApplication([]) # IMPORTANT tao Instance\n",
    "\n",
    "# label = QLabel('Hello World')\n",
    "# label.show()"
   ]
  },
  {
   "cell_type": "raw",
   "id": "36295d05-43d4-4fd8-ba70-8170e8d5dc16",
   "metadata": {
    "tags": []
   },
   "source": [
    "app.setStyle('Fusion') # STYLE\n",
    "# app.setStyle('Windows') # STYLE\n",
    "# app.setStyle('WindowsVista') # STYLE\n",
    "\n",
    "palette = QPalette() # style pallete\n",
    "palette.setColor(QPalette.ButtonText, Qt.blue)\n",
    "app.setPalette(palette)\n",
    "\n",
    "app.setStyleSheet(\"QPushButton { margin: 1ex; }\") # style sheet\n",
    "\n",
    "window = QWidget()\n",
    "layout = QVBoxLayout()\n",
    "layout.addWidget(QPushButton('Top'))\n",
    "layout.addWidget(QPushButton('Bottom'))\n",
    "window.setLayout(layout)\n",
    "window.show()\n",
    "\n",
    "app.exec_() #\"run the application until the user closes it\"."
   ]
  },
  {
   "cell_type": "code",
   "execution_count": 3,
   "id": "276c9ff2-7998-4ffb-8692-93d5818cb747",
   "metadata": {
    "tags": []
   },
   "outputs": [
    {
     "data": {
      "text/plain": [
       "0"
      ]
     },
     "execution_count": 3,
     "metadata": {},
     "output_type": "execute_result"
    }
   ],
   "source": [
    "button = QPushButton('Click')\n",
    "def on_button_clicked():\n",
    "    alert = QMessageBox()\n",
    "    alert.setText('You clicked the button!')\n",
    "    alert.exec()\n",
    "\n",
    "button.clicked.connect(on_button_clicked)\n",
    "button.show()\n",
    "app.exec()"
   ]
  }
 ],
 "metadata": {
  "kernelspec": {
   "display_name": "Python 3",
   "language": "python",
   "name": "python3"
  },
  "language_info": {
   "codemirror_mode": {
    "name": "ipython",
    "version": 3
   },
   "file_extension": ".py",
   "mimetype": "text/x-python",
   "name": "python",
   "nbconvert_exporter": "python",
   "pygments_lexer": "ipython3",
   "version": "3.9.1"
  }
 },
 "nbformat": 4,
 "nbformat_minor": 5
}
