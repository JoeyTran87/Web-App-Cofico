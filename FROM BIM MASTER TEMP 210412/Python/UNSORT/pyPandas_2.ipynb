{
 "cells": [
  {
   "cell_type": "code",
   "execution_count": 1,
   "id": "bcabb910-860e-4449-97a4-288fbb90d396",
   "metadata": {},
   "outputs": [],
   "source": [
    "import numpy as np\n",
    "import pandas as pd"
   ]
  },
  {
   "cell_type": "code",
   "execution_count": 2,
   "id": "b486c25c-8ca9-4851-8e44-871dcf101d89",
   "metadata": {},
   "outputs": [
    {
     "data": {
      "text/plain": [
       "0    1.0\n",
       "1    3.0\n",
       "2    5.0\n",
       "3    NaN\n",
       "4    6.0\n",
       "5    8.0\n",
       "dtype: float64"
      ]
     },
     "execution_count": 2,
     "metadata": {},
     "output_type": "execute_result"
    }
   ],
   "source": [
    " s = pd.Series([1, 3, 5, np.nan, 6, 8])\n",
    "s"
   ]
  },
  {
   "cell_type": "code",
   "execution_count": 3,
   "id": "6173ec5b-9417-409e-a565-115943a0095b",
   "metadata": {},
   "outputs": [
    {
     "data": {
      "text/plain": [
       "0    1.0\n",
       "1    3.0\n",
       "2    5.0\n",
       "4    6.0\n",
       "5    8.0\n",
       "dtype: float64"
      ]
     },
     "execution_count": 3,
     "metadata": {},
     "output_type": "execute_result"
    }
   ],
   "source": [
    "s.dropna(inplace = True)\n",
    "s"
   ]
  },
  {
   "cell_type": "code",
   "execution_count": 4,
   "id": "80ab8d4a-cf7b-4023-bc56-21a79a36653b",
   "metadata": {},
   "outputs": [
    {
     "data": {
      "text/plain": [
       "DatetimeIndex(['2013-01-01', '2013-01-02', '2013-01-03', '2013-01-04',\n",
       "               '2013-01-05', '2013-01-06'],\n",
       "              dtype='datetime64[ns]', freq='D')"
      ]
     },
     "execution_count": 4,
     "metadata": {},
     "output_type": "execute_result"
    }
   ],
   "source": [
    "dates = pd.date_range(\"20130101\", periods=6)\n",
    "# print(dates)\n",
    "dates"
   ]
  },
  {
   "cell_type": "code",
   "execution_count": 5,
   "id": "fe7cf527-0fa8-4739-9df6-ce33d3d6f109",
   "metadata": {},
   "outputs": [
    {
     "name": "stdout",
     "output_type": "stream",
     "text": [
      "                   A         B         C         D\n",
      "2013-01-01  0.138098  0.001469  1.428136 -0.480740\n",
      "2013-01-02 -1.484050  0.795454  0.423890  0.734881\n",
      "2013-01-03 -2.344404  1.100718 -0.235809  0.910245\n",
      "2013-01-04  1.157449 -1.552835  0.571136  0.810869\n",
      "2013-01-05 -1.343878  0.775791 -0.272268  0.603014\n",
      "2013-01-06 -0.681017  0.106777  0.222453  2.182258\n"
     ]
    }
   ],
   "source": [
    "df = pd.DataFrame(np.random.randn(6, 4), index=dates, columns=list(\"ABCD\"))\n",
    "print(df)"
   ]
  },
  {
   "cell_type": "code",
   "execution_count": 6,
   "id": "723824da-1feb-4405-8a59-f288eaebf03f",
   "metadata": {},
   "outputs": [
    {
     "name": "stdout",
     "output_type": "stream",
     "text": [
      "[[ 0.75567304 -1.40463249  0.70813614  0.51994506]\n",
      " [-2.06661464 -1.66522555  1.58552391 -0.04222575]\n",
      " [ 1.44302225  1.19848957  0.6793296  -1.00951125]\n",
      " [ 0.36282902 -0.69778774 -1.73768362 -0.47930582]\n",
      " [ 0.79905299  0.37078698 -0.34769135 -1.06575931]\n",
      " [-0.52550382  0.34421013 -0.68328028 -0.48995011]]\n",
      "['t', 'r', 'a', 'n', ' ', 'v', 'o', ' ', 'p', 'h', 'u', 'o', 'n', 'g', ' ', 'd', 'u', 'y']\n"
     ]
    }
   ],
   "source": [
    "print(np.random.randn(6, 4)) # (row,column)\n",
    "print(list(\"tran vo phuong duy\"))\n"
   ]
  },
  {
   "cell_type": "code",
   "execution_count": 7,
   "id": "cbbd5d10-4417-4100-93a9-4626fa80c4f5",
   "metadata": {},
   "outputs": [
    {
     "data": {
      "text/html": [
       "<div>\n",
       "<style scoped>\n",
       "    .dataframe tbody tr th:only-of-type {\n",
       "        vertical-align: middle;\n",
       "    }\n",
       "\n",
       "    .dataframe tbody tr th {\n",
       "        vertical-align: top;\n",
       "    }\n",
       "\n",
       "    .dataframe thead th {\n",
       "        text-align: right;\n",
       "    }\n",
       "</style>\n",
       "<table border=\"1\" class=\"dataframe\">\n",
       "  <thead>\n",
       "    <tr style=\"text-align: right;\">\n",
       "      <th></th>\n",
       "      <th>A</th>\n",
       "      <th>B</th>\n",
       "      <th>C</th>\n",
       "      <th>D</th>\n",
       "      <th>E</th>\n",
       "      <th>F</th>\n",
       "    </tr>\n",
       "  </thead>\n",
       "  <tbody>\n",
       "    <tr>\n",
       "      <th>0</th>\n",
       "      <td>1.0</td>\n",
       "      <td>2013-01-02</td>\n",
       "      <td>1.0</td>\n",
       "      <td>3</td>\n",
       "      <td>test</td>\n",
       "      <td>foo</td>\n",
       "    </tr>\n",
       "    <tr>\n",
       "      <th>1</th>\n",
       "      <td>1.0</td>\n",
       "      <td>2013-01-02</td>\n",
       "      <td>1.0</td>\n",
       "      <td>3</td>\n",
       "      <td>train</td>\n",
       "      <td>foo</td>\n",
       "    </tr>\n",
       "    <tr>\n",
       "      <th>2</th>\n",
       "      <td>1.0</td>\n",
       "      <td>2013-01-02</td>\n",
       "      <td>1.0</td>\n",
       "      <td>3</td>\n",
       "      <td>test</td>\n",
       "      <td>foo</td>\n",
       "    </tr>\n",
       "    <tr>\n",
       "      <th>3</th>\n",
       "      <td>1.0</td>\n",
       "      <td>2013-01-02</td>\n",
       "      <td>1.0</td>\n",
       "      <td>3</td>\n",
       "      <td>train</td>\n",
       "      <td>foo</td>\n",
       "    </tr>\n",
       "  </tbody>\n",
       "</table>\n",
       "</div>"
      ],
      "text/plain": [
       "     A          B    C  D      E    F\n",
       "0  1.0 2013-01-02  1.0  3   test  foo\n",
       "1  1.0 2013-01-02  1.0  3  train  foo\n",
       "2  1.0 2013-01-02  1.0  3   test  foo\n",
       "3  1.0 2013-01-02  1.0  3  train  foo"
      ]
     },
     "execution_count": 7,
     "metadata": {},
     "output_type": "execute_result"
    }
   ],
   "source": [
    "df2 = pd.DataFrame({\n",
    "                                    \"A\": 1.0,\n",
    "                                    \"B\": pd.Timestamp(\"20130102\"),\n",
    "                                    \"C\": pd.Series(1, index=list(range(4)), dtype=\"float32\"),\n",
    "                                    \"D\": np.array([3] * 4, dtype=\"int32\"),\n",
    "                                    \"E\": pd.Categorical([\"test\", \"train\", \"test\", \"train\"]),\n",
    "                                    \"F\": \"foo\",\n",
    "                                    }\n",
    "                                )\n",
    "df2"
   ]
  },
  {
   "cell_type": "code",
   "execution_count": 8,
   "id": "456b25b0-a61c-445d-856e-89c837104139",
   "metadata": {},
   "outputs": [
    {
     "name": "stdout",
     "output_type": "stream",
     "text": [
      "2021-05-25 07:12:18\n",
      "[0, 1, 2, 3]\n",
      "[3 3 3 3]\n"
     ]
    }
   ],
   "source": [
    "print(pd.Timestamp(\"20210525 071218\"))\n",
    "print(list(range(4)))\n",
    "print(np.array([3]* 4, dtype=\"int32\"))"
   ]
  },
  {
   "cell_type": "code",
   "execution_count": 9,
   "id": "45dfa0fc-a058-405e-b067-d4f9b39d125b",
   "metadata": {},
   "outputs": [
    {
     "data": {
      "text/plain": [
       "A           float64\n",
       "B    datetime64[ns]\n",
       "C           float32\n",
       "D             int32\n",
       "E          category\n",
       "F            object\n",
       "dtype: object"
      ]
     },
     "execution_count": 9,
     "metadata": {},
     "output_type": "execute_result"
    }
   ],
   "source": [
    "df2.dtypes # xem kiểu dữ liệu các cột"
   ]
  },
  {
   "cell_type": "code",
   "execution_count": 10,
   "id": "ebc16b5d-c4be-4457-81c0-d250d0cacfd5",
   "metadata": {},
   "outputs": [
    {
     "data": {
      "text/html": [
       "<div>\n",
       "<style scoped>\n",
       "    .dataframe tbody tr th:only-of-type {\n",
       "        vertical-align: middle;\n",
       "    }\n",
       "\n",
       "    .dataframe tbody tr th {\n",
       "        vertical-align: top;\n",
       "    }\n",
       "\n",
       "    .dataframe thead th {\n",
       "        text-align: right;\n",
       "    }\n",
       "</style>\n",
       "<table border=\"1\" class=\"dataframe\">\n",
       "  <thead>\n",
       "    <tr style=\"text-align: right;\">\n",
       "      <th></th>\n",
       "      <th>A</th>\n",
       "      <th>B</th>\n",
       "      <th>C</th>\n",
       "      <th>D</th>\n",
       "    </tr>\n",
       "  </thead>\n",
       "  <tbody>\n",
       "    <tr>\n",
       "      <th>2013-01-01</th>\n",
       "      <td>0.138098</td>\n",
       "      <td>0.001469</td>\n",
       "      <td>1.428136</td>\n",
       "      <td>-0.480740</td>\n",
       "    </tr>\n",
       "    <tr>\n",
       "      <th>2013-01-02</th>\n",
       "      <td>-1.484050</td>\n",
       "      <td>0.795454</td>\n",
       "      <td>0.423890</td>\n",
       "      <td>0.734881</td>\n",
       "    </tr>\n",
       "  </tbody>\n",
       "</table>\n",
       "</div>"
      ],
      "text/plain": [
       "                   A         B         C         D\n",
       "2013-01-01  0.138098  0.001469  1.428136 -0.480740\n",
       "2013-01-02 -1.484050  0.795454  0.423890  0.734881"
      ]
     },
     "execution_count": 10,
     "metadata": {},
     "output_type": "execute_result"
    }
   ],
   "source": [
    "df.head(2)"
   ]
  },
  {
   "cell_type": "code",
   "execution_count": 11,
   "id": "285586ed-f66a-4ce8-88a2-f44ca75501be",
   "metadata": {},
   "outputs": [
    {
     "data": {
      "text/html": [
       "<div>\n",
       "<style scoped>\n",
       "    .dataframe tbody tr th:only-of-type {\n",
       "        vertical-align: middle;\n",
       "    }\n",
       "\n",
       "    .dataframe tbody tr th {\n",
       "        vertical-align: top;\n",
       "    }\n",
       "\n",
       "    .dataframe thead th {\n",
       "        text-align: right;\n",
       "    }\n",
       "</style>\n",
       "<table border=\"1\" class=\"dataframe\">\n",
       "  <thead>\n",
       "    <tr style=\"text-align: right;\">\n",
       "      <th></th>\n",
       "      <th>A</th>\n",
       "      <th>B</th>\n",
       "      <th>C</th>\n",
       "      <th>D</th>\n",
       "    </tr>\n",
       "  </thead>\n",
       "  <tbody>\n",
       "    <tr>\n",
       "      <th>2013-01-05</th>\n",
       "      <td>-1.343878</td>\n",
       "      <td>0.775791</td>\n",
       "      <td>-0.272268</td>\n",
       "      <td>0.603014</td>\n",
       "    </tr>\n",
       "    <tr>\n",
       "      <th>2013-01-06</th>\n",
       "      <td>-0.681017</td>\n",
       "      <td>0.106777</td>\n",
       "      <td>0.222453</td>\n",
       "      <td>2.182258</td>\n",
       "    </tr>\n",
       "  </tbody>\n",
       "</table>\n",
       "</div>"
      ],
      "text/plain": [
       "                   A         B         C         D\n",
       "2013-01-05 -1.343878  0.775791 -0.272268  0.603014\n",
       "2013-01-06 -0.681017  0.106777  0.222453  2.182258"
      ]
     },
     "execution_count": 11,
     "metadata": {},
     "output_type": "execute_result"
    }
   ],
   "source": [
    "df.tail(2)"
   ]
  },
  {
   "cell_type": "code",
   "execution_count": 12,
   "id": "75a73271-418a-446f-a355-8d182530eab1",
   "metadata": {},
   "outputs": [
    {
     "data": {
      "text/plain": [
       "DatetimeIndex(['2013-01-01', '2013-01-02', '2013-01-03', '2013-01-04',\n",
       "               '2013-01-05', '2013-01-06'],\n",
       "              dtype='datetime64[ns]', freq='D')"
      ]
     },
     "execution_count": 12,
     "metadata": {},
     "output_type": "execute_result"
    }
   ],
   "source": [
    "df.index"
   ]
  },
  {
   "cell_type": "code",
   "execution_count": 13,
   "id": "2288c33c-3210-447d-8ea0-d08d984b7547",
   "metadata": {},
   "outputs": [
    {
     "data": {
      "text/plain": [
       "Index(['A', 'B', 'C', 'D'], dtype='object')"
      ]
     },
     "execution_count": 13,
     "metadata": {},
     "output_type": "execute_result"
    }
   ],
   "source": [
    "df.columns"
   ]
  },
  {
   "cell_type": "code",
   "execution_count": 14,
   "id": "47feb02e-1c04-4c48-a4c8-92815bc405da",
   "metadata": {},
   "outputs": [
    {
     "data": {
      "text/plain": [
       "array([[ 1.38097689e-01,  1.46881539e-03,  1.42813592e+00,\n",
       "        -4.80739834e-01],\n",
       "       [-1.48405014e+00,  7.95454137e-01,  4.23890205e-01,\n",
       "         7.34881420e-01],\n",
       "       [-2.34440369e+00,  1.10071833e+00, -2.35809234e-01,\n",
       "         9.10245162e-01],\n",
       "       [ 1.15744875e+00, -1.55283523e+00,  5.71136020e-01,\n",
       "         8.10869445e-01],\n",
       "       [-1.34387779e+00,  7.75790740e-01, -2.72267879e-01,\n",
       "         6.03013865e-01],\n",
       "       [-6.81017077e-01,  1.06776521e-01,  2.22453211e-01,\n",
       "         2.18225845e+00]])"
      ]
     },
     "execution_count": 14,
     "metadata": {},
     "output_type": "execute_result"
    }
   ],
   "source": [
    "df.to_numpy()"
   ]
  },
  {
   "cell_type": "code",
   "execution_count": 15,
   "id": "514def68-1be0-40a1-813f-8f40ee840e15",
   "metadata": {},
   "outputs": [
    {
     "data": {
      "text/plain": [
       "array([[1.0, Timestamp('2013-01-02 00:00:00'), 1.0, 3, 'test', 'foo'],\n",
       "       [1.0, Timestamp('2013-01-02 00:00:00'), 1.0, 3, 'train', 'foo'],\n",
       "       [1.0, Timestamp('2013-01-02 00:00:00'), 1.0, 3, 'test', 'foo'],\n",
       "       [1.0, Timestamp('2013-01-02 00:00:00'), 1.0, 3, 'train', 'foo']],\n",
       "      dtype=object)"
      ]
     },
     "execution_count": 15,
     "metadata": {},
     "output_type": "execute_result"
    }
   ],
   "source": [
    "df2.to_numpy()"
   ]
  },
  {
   "cell_type": "code",
   "execution_count": 16,
   "id": "edcee256-cd18-44b9-8e2d-c3f5ab9db642",
   "metadata": {},
   "outputs": [
    {
     "data": {
      "text/html": [
       "<div>\n",
       "<style scoped>\n",
       "    .dataframe tbody tr th:only-of-type {\n",
       "        vertical-align: middle;\n",
       "    }\n",
       "\n",
       "    .dataframe tbody tr th {\n",
       "        vertical-align: top;\n",
       "    }\n",
       "\n",
       "    .dataframe thead th {\n",
       "        text-align: right;\n",
       "    }\n",
       "</style>\n",
       "<table border=\"1\" class=\"dataframe\">\n",
       "  <thead>\n",
       "    <tr style=\"text-align: right;\">\n",
       "      <th></th>\n",
       "      <th>A</th>\n",
       "      <th>B</th>\n",
       "      <th>C</th>\n",
       "      <th>D</th>\n",
       "    </tr>\n",
       "  </thead>\n",
       "  <tbody>\n",
       "    <tr>\n",
       "      <th>count</th>\n",
       "      <td>6.000000</td>\n",
       "      <td>6.000000</td>\n",
       "      <td>6.000000</td>\n",
       "      <td>6.000000</td>\n",
       "    </tr>\n",
       "    <tr>\n",
       "      <th>mean</th>\n",
       "      <td>-0.759634</td>\n",
       "      <td>0.204562</td>\n",
       "      <td>0.356256</td>\n",
       "      <td>0.793421</td>\n",
       "    </tr>\n",
       "    <tr>\n",
       "      <th>std</th>\n",
       "      <td>1.254187</td>\n",
       "      <td>0.961021</td>\n",
       "      <td>0.626604</td>\n",
       "      <td>0.849234</td>\n",
       "    </tr>\n",
       "    <tr>\n",
       "      <th>min</th>\n",
       "      <td>-2.344404</td>\n",
       "      <td>-1.552835</td>\n",
       "      <td>-0.272268</td>\n",
       "      <td>-0.480740</td>\n",
       "    </tr>\n",
       "    <tr>\n",
       "      <th>25%</th>\n",
       "      <td>-1.449007</td>\n",
       "      <td>0.027796</td>\n",
       "      <td>-0.121244</td>\n",
       "      <td>0.635981</td>\n",
       "    </tr>\n",
       "    <tr>\n",
       "      <th>50%</th>\n",
       "      <td>-1.012447</td>\n",
       "      <td>0.441284</td>\n",
       "      <td>0.323172</td>\n",
       "      <td>0.772875</td>\n",
       "    </tr>\n",
       "    <tr>\n",
       "      <th>75%</th>\n",
       "      <td>-0.066681</td>\n",
       "      <td>0.790538</td>\n",
       "      <td>0.534325</td>\n",
       "      <td>0.885401</td>\n",
       "    </tr>\n",
       "    <tr>\n",
       "      <th>max</th>\n",
       "      <td>1.157449</td>\n",
       "      <td>1.100718</td>\n",
       "      <td>1.428136</td>\n",
       "      <td>2.182258</td>\n",
       "    </tr>\n",
       "  </tbody>\n",
       "</table>\n",
       "</div>"
      ],
      "text/plain": [
       "              A         B         C         D\n",
       "count  6.000000  6.000000  6.000000  6.000000\n",
       "mean  -0.759634  0.204562  0.356256  0.793421\n",
       "std    1.254187  0.961021  0.626604  0.849234\n",
       "min   -2.344404 -1.552835 -0.272268 -0.480740\n",
       "25%   -1.449007  0.027796 -0.121244  0.635981\n",
       "50%   -1.012447  0.441284  0.323172  0.772875\n",
       "75%   -0.066681  0.790538  0.534325  0.885401\n",
       "max    1.157449  1.100718  1.428136  2.182258"
      ]
     },
     "execution_count": 16,
     "metadata": {},
     "output_type": "execute_result"
    }
   ],
   "source": [
    "df.describe() #shows a quick statistic summary of your data:"
   ]
  },
  {
   "cell_type": "code",
   "execution_count": 17,
   "id": "9f166e93-4212-4013-badb-db2f16748472",
   "metadata": {},
   "outputs": [
    {
     "data": {
      "text/html": [
       "<div>\n",
       "<style scoped>\n",
       "    .dataframe tbody tr th:only-of-type {\n",
       "        vertical-align: middle;\n",
       "    }\n",
       "\n",
       "    .dataframe tbody tr th {\n",
       "        vertical-align: top;\n",
       "    }\n",
       "\n",
       "    .dataframe thead th {\n",
       "        text-align: right;\n",
       "    }\n",
       "</style>\n",
       "<table border=\"1\" class=\"dataframe\">\n",
       "  <thead>\n",
       "    <tr style=\"text-align: right;\">\n",
       "      <th></th>\n",
       "      <th>2013-01-01</th>\n",
       "      <th>2013-01-02</th>\n",
       "      <th>2013-01-03</th>\n",
       "      <th>2013-01-04</th>\n",
       "      <th>2013-01-05</th>\n",
       "      <th>2013-01-06</th>\n",
       "    </tr>\n",
       "  </thead>\n",
       "  <tbody>\n",
       "    <tr>\n",
       "      <th>A</th>\n",
       "      <td>0.138098</td>\n",
       "      <td>-1.484050</td>\n",
       "      <td>-2.344404</td>\n",
       "      <td>1.157449</td>\n",
       "      <td>-1.343878</td>\n",
       "      <td>-0.681017</td>\n",
       "    </tr>\n",
       "    <tr>\n",
       "      <th>B</th>\n",
       "      <td>0.001469</td>\n",
       "      <td>0.795454</td>\n",
       "      <td>1.100718</td>\n",
       "      <td>-1.552835</td>\n",
       "      <td>0.775791</td>\n",
       "      <td>0.106777</td>\n",
       "    </tr>\n",
       "    <tr>\n",
       "      <th>C</th>\n",
       "      <td>1.428136</td>\n",
       "      <td>0.423890</td>\n",
       "      <td>-0.235809</td>\n",
       "      <td>0.571136</td>\n",
       "      <td>-0.272268</td>\n",
       "      <td>0.222453</td>\n",
       "    </tr>\n",
       "    <tr>\n",
       "      <th>D</th>\n",
       "      <td>-0.480740</td>\n",
       "      <td>0.734881</td>\n",
       "      <td>0.910245</td>\n",
       "      <td>0.810869</td>\n",
       "      <td>0.603014</td>\n",
       "      <td>2.182258</td>\n",
       "    </tr>\n",
       "  </tbody>\n",
       "</table>\n",
       "</div>"
      ],
      "text/plain": [
       "   2013-01-01  2013-01-02  2013-01-03  2013-01-04  2013-01-05  2013-01-06\n",
       "A    0.138098   -1.484050   -2.344404    1.157449   -1.343878   -0.681017\n",
       "B    0.001469    0.795454    1.100718   -1.552835    0.775791    0.106777\n",
       "C    1.428136    0.423890   -0.235809    0.571136   -0.272268    0.222453\n",
       "D   -0.480740    0.734881    0.910245    0.810869    0.603014    2.182258"
      ]
     },
     "execution_count": 17,
     "metadata": {},
     "output_type": "execute_result"
    }
   ],
   "source": [
    "df.T"
   ]
  },
  {
   "cell_type": "code",
   "execution_count": 18,
   "id": "6ea95969-cd06-478d-9d8c-3124c5c3aca2",
   "metadata": {},
   "outputs": [
    {
     "data": {
      "text/html": [
       "<div>\n",
       "<style scoped>\n",
       "    .dataframe tbody tr th:only-of-type {\n",
       "        vertical-align: middle;\n",
       "    }\n",
       "\n",
       "    .dataframe tbody tr th {\n",
       "        vertical-align: top;\n",
       "    }\n",
       "\n",
       "    .dataframe thead th {\n",
       "        text-align: right;\n",
       "    }\n",
       "</style>\n",
       "<table border=\"1\" class=\"dataframe\">\n",
       "  <thead>\n",
       "    <tr style=\"text-align: right;\">\n",
       "      <th></th>\n",
       "      <th>A</th>\n",
       "      <th>B</th>\n",
       "      <th>C</th>\n",
       "      <th>D</th>\n",
       "    </tr>\n",
       "  </thead>\n",
       "  <tbody>\n",
       "    <tr>\n",
       "      <th>2013-01-01</th>\n",
       "      <td>0.138098</td>\n",
       "      <td>0.001469</td>\n",
       "      <td>1.428136</td>\n",
       "      <td>-0.480740</td>\n",
       "    </tr>\n",
       "    <tr>\n",
       "      <th>2013-01-02</th>\n",
       "      <td>-1.484050</td>\n",
       "      <td>0.795454</td>\n",
       "      <td>0.423890</td>\n",
       "      <td>0.734881</td>\n",
       "    </tr>\n",
       "    <tr>\n",
       "      <th>2013-01-03</th>\n",
       "      <td>-2.344404</td>\n",
       "      <td>1.100718</td>\n",
       "      <td>-0.235809</td>\n",
       "      <td>0.910245</td>\n",
       "    </tr>\n",
       "    <tr>\n",
       "      <th>2013-01-04</th>\n",
       "      <td>1.157449</td>\n",
       "      <td>-1.552835</td>\n",
       "      <td>0.571136</td>\n",
       "      <td>0.810869</td>\n",
       "    </tr>\n",
       "    <tr>\n",
       "      <th>2013-01-05</th>\n",
       "      <td>-1.343878</td>\n",
       "      <td>0.775791</td>\n",
       "      <td>-0.272268</td>\n",
       "      <td>0.603014</td>\n",
       "    </tr>\n",
       "    <tr>\n",
       "      <th>2013-01-06</th>\n",
       "      <td>-0.681017</td>\n",
       "      <td>0.106777</td>\n",
       "      <td>0.222453</td>\n",
       "      <td>2.182258</td>\n",
       "    </tr>\n",
       "  </tbody>\n",
       "</table>\n",
       "</div>"
      ],
      "text/plain": [
       "                   A         B         C         D\n",
       "2013-01-01  0.138098  0.001469  1.428136 -0.480740\n",
       "2013-01-02 -1.484050  0.795454  0.423890  0.734881\n",
       "2013-01-03 -2.344404  1.100718 -0.235809  0.910245\n",
       "2013-01-04  1.157449 -1.552835  0.571136  0.810869\n",
       "2013-01-05 -1.343878  0.775791 -0.272268  0.603014\n",
       "2013-01-06 -0.681017  0.106777  0.222453  2.182258"
      ]
     },
     "execution_count": 18,
     "metadata": {},
     "output_type": "execute_result"
    }
   ],
   "source": [
    "df"
   ]
  },
  {
   "cell_type": "code",
   "execution_count": 19,
   "id": "990b34a8-741f-47ae-8c56-df1fb51836d8",
   "metadata": {},
   "outputs": [
    {
     "data": {
      "text/html": [
       "<div>\n",
       "<style scoped>\n",
       "    .dataframe tbody tr th:only-of-type {\n",
       "        vertical-align: middle;\n",
       "    }\n",
       "\n",
       "    .dataframe tbody tr th {\n",
       "        vertical-align: top;\n",
       "    }\n",
       "\n",
       "    .dataframe thead th {\n",
       "        text-align: right;\n",
       "    }\n",
       "</style>\n",
       "<table border=\"1\" class=\"dataframe\">\n",
       "  <thead>\n",
       "    <tr style=\"text-align: right;\">\n",
       "      <th></th>\n",
       "      <th>A</th>\n",
       "      <th>B</th>\n",
       "      <th>C</th>\n",
       "      <th>D</th>\n",
       "    </tr>\n",
       "  </thead>\n",
       "  <tbody>\n",
       "    <tr>\n",
       "      <th>2013-01-04</th>\n",
       "      <td>1.157449</td>\n",
       "      <td>-1.552835</td>\n",
       "      <td>0.571136</td>\n",
       "      <td>0.810869</td>\n",
       "    </tr>\n",
       "    <tr>\n",
       "      <th>2013-01-01</th>\n",
       "      <td>0.138098</td>\n",
       "      <td>0.001469</td>\n",
       "      <td>1.428136</td>\n",
       "      <td>-0.480740</td>\n",
       "    </tr>\n",
       "    <tr>\n",
       "      <th>2013-01-06</th>\n",
       "      <td>-0.681017</td>\n",
       "      <td>0.106777</td>\n",
       "      <td>0.222453</td>\n",
       "      <td>2.182258</td>\n",
       "    </tr>\n",
       "    <tr>\n",
       "      <th>2013-01-05</th>\n",
       "      <td>-1.343878</td>\n",
       "      <td>0.775791</td>\n",
       "      <td>-0.272268</td>\n",
       "      <td>0.603014</td>\n",
       "    </tr>\n",
       "    <tr>\n",
       "      <th>2013-01-02</th>\n",
       "      <td>-1.484050</td>\n",
       "      <td>0.795454</td>\n",
       "      <td>0.423890</td>\n",
       "      <td>0.734881</td>\n",
       "    </tr>\n",
       "    <tr>\n",
       "      <th>2013-01-03</th>\n",
       "      <td>-2.344404</td>\n",
       "      <td>1.100718</td>\n",
       "      <td>-0.235809</td>\n",
       "      <td>0.910245</td>\n",
       "    </tr>\n",
       "  </tbody>\n",
       "</table>\n",
       "</div>"
      ],
      "text/plain": [
       "                   A         B         C         D\n",
       "2013-01-04  1.157449 -1.552835  0.571136  0.810869\n",
       "2013-01-01  0.138098  0.001469  1.428136 -0.480740\n",
       "2013-01-06 -0.681017  0.106777  0.222453  2.182258\n",
       "2013-01-05 -1.343878  0.775791 -0.272268  0.603014\n",
       "2013-01-02 -1.484050  0.795454  0.423890  0.734881\n",
       "2013-01-03 -2.344404  1.100718 -0.235809  0.910245"
      ]
     },
     "execution_count": 19,
     "metadata": {},
     "output_type": "execute_result"
    }
   ],
   "source": [
    "df.sort_values(by=\"B\")"
   ]
  },
  {
   "cell_type": "code",
   "execution_count": 20,
   "id": "2c8128e6-58ad-4bb6-b936-61c75647bc04",
   "metadata": {},
   "outputs": [
    {
     "data": {
      "text/html": [
       "<div>\n",
       "<style scoped>\n",
       "    .dataframe tbody tr th:only-of-type {\n",
       "        vertical-align: middle;\n",
       "    }\n",
       "\n",
       "    .dataframe tbody tr th {\n",
       "        vertical-align: top;\n",
       "    }\n",
       "\n",
       "    .dataframe thead th {\n",
       "        text-align: right;\n",
       "    }\n",
       "</style>\n",
       "<table border=\"1\" class=\"dataframe\">\n",
       "  <thead>\n",
       "    <tr style=\"text-align: right;\">\n",
       "      <th></th>\n",
       "      <th>D</th>\n",
       "      <th>C</th>\n",
       "      <th>B</th>\n",
       "      <th>A</th>\n",
       "    </tr>\n",
       "  </thead>\n",
       "  <tbody>\n",
       "    <tr>\n",
       "      <th>2013-01-01</th>\n",
       "      <td>-0.480740</td>\n",
       "      <td>1.428136</td>\n",
       "      <td>0.001469</td>\n",
       "      <td>0.138098</td>\n",
       "    </tr>\n",
       "    <tr>\n",
       "      <th>2013-01-02</th>\n",
       "      <td>0.734881</td>\n",
       "      <td>0.423890</td>\n",
       "      <td>0.795454</td>\n",
       "      <td>-1.484050</td>\n",
       "    </tr>\n",
       "    <tr>\n",
       "      <th>2013-01-03</th>\n",
       "      <td>0.910245</td>\n",
       "      <td>-0.235809</td>\n",
       "      <td>1.100718</td>\n",
       "      <td>-2.344404</td>\n",
       "    </tr>\n",
       "    <tr>\n",
       "      <th>2013-01-04</th>\n",
       "      <td>0.810869</td>\n",
       "      <td>0.571136</td>\n",
       "      <td>-1.552835</td>\n",
       "      <td>1.157449</td>\n",
       "    </tr>\n",
       "    <tr>\n",
       "      <th>2013-01-05</th>\n",
       "      <td>0.603014</td>\n",
       "      <td>-0.272268</td>\n",
       "      <td>0.775791</td>\n",
       "      <td>-1.343878</td>\n",
       "    </tr>\n",
       "    <tr>\n",
       "      <th>2013-01-06</th>\n",
       "      <td>2.182258</td>\n",
       "      <td>0.222453</td>\n",
       "      <td>0.106777</td>\n",
       "      <td>-0.681017</td>\n",
       "    </tr>\n",
       "  </tbody>\n",
       "</table>\n",
       "</div>"
      ],
      "text/plain": [
       "                   D         C         B         A\n",
       "2013-01-01 -0.480740  1.428136  0.001469  0.138098\n",
       "2013-01-02  0.734881  0.423890  0.795454 -1.484050\n",
       "2013-01-03  0.910245 -0.235809  1.100718 -2.344404\n",
       "2013-01-04  0.810869  0.571136 -1.552835  1.157449\n",
       "2013-01-05  0.603014 -0.272268  0.775791 -1.343878\n",
       "2013-01-06  2.182258  0.222453  0.106777 -0.681017"
      ]
     },
     "execution_count": 20,
     "metadata": {},
     "output_type": "execute_result"
    }
   ],
   "source": [
    "df.sort_index(axis=1, ascending=False)"
   ]
  },
  {
   "cell_type": "code",
   "execution_count": 21,
   "id": "a8449dab-5eaf-4675-a348-4beb4ca97bd0",
   "metadata": {},
   "outputs": [
    {
     "data": {
      "text/plain": [
       "2013-01-01    0.138098\n",
       "2013-01-02   -1.484050\n",
       "2013-01-03   -2.344404\n",
       "2013-01-04    1.157449\n",
       "2013-01-05   -1.343878\n",
       "2013-01-06   -0.681017\n",
       "Freq: D, Name: A, dtype: float64"
      ]
     },
     "execution_count": 21,
     "metadata": {},
     "output_type": "execute_result"
    }
   ],
   "source": [
    "df[\"A\"]"
   ]
  },
  {
   "cell_type": "code",
   "execution_count": 22,
   "id": "c71604b4-1a5a-4260-9cdb-cc32ab6c353d",
   "metadata": {},
   "outputs": [
    {
     "data": {
      "text/html": [
       "<div>\n",
       "<style scoped>\n",
       "    .dataframe tbody tr th:only-of-type {\n",
       "        vertical-align: middle;\n",
       "    }\n",
       "\n",
       "    .dataframe tbody tr th {\n",
       "        vertical-align: top;\n",
       "    }\n",
       "\n",
       "    .dataframe thead th {\n",
       "        text-align: right;\n",
       "    }\n",
       "</style>\n",
       "<table border=\"1\" class=\"dataframe\">\n",
       "  <thead>\n",
       "    <tr style=\"text-align: right;\">\n",
       "      <th></th>\n",
       "      <th>A</th>\n",
       "      <th>B</th>\n",
       "      <th>C</th>\n",
       "      <th>D</th>\n",
       "    </tr>\n",
       "  </thead>\n",
       "  <tbody>\n",
       "    <tr>\n",
       "      <th>2013-01-01</th>\n",
       "      <td>0.138098</td>\n",
       "      <td>0.001469</td>\n",
       "      <td>1.428136</td>\n",
       "      <td>-0.480740</td>\n",
       "    </tr>\n",
       "    <tr>\n",
       "      <th>2013-01-02</th>\n",
       "      <td>-1.484050</td>\n",
       "      <td>0.795454</td>\n",
       "      <td>0.423890</td>\n",
       "      <td>0.734881</td>\n",
       "    </tr>\n",
       "    <tr>\n",
       "      <th>2013-01-03</th>\n",
       "      <td>-2.344404</td>\n",
       "      <td>1.100718</td>\n",
       "      <td>-0.235809</td>\n",
       "      <td>0.910245</td>\n",
       "    </tr>\n",
       "  </tbody>\n",
       "</table>\n",
       "</div>"
      ],
      "text/plain": [
       "                   A         B         C         D\n",
       "2013-01-01  0.138098  0.001469  1.428136 -0.480740\n",
       "2013-01-02 -1.484050  0.795454  0.423890  0.734881\n",
       "2013-01-03 -2.344404  1.100718 -0.235809  0.910245"
      ]
     },
     "execution_count": 22,
     "metadata": {},
     "output_type": "execute_result"
    }
   ],
   "source": [
    "df[0:3] # [row:row]"
   ]
  },
  {
   "cell_type": "code",
   "execution_count": 23,
   "id": "309da898-dacd-4823-b745-09089e0134d5",
   "metadata": {},
   "outputs": [
    {
     "data": {
      "text/html": [
       "<div>\n",
       "<style scoped>\n",
       "    .dataframe tbody tr th:only-of-type {\n",
       "        vertical-align: middle;\n",
       "    }\n",
       "\n",
       "    .dataframe tbody tr th {\n",
       "        vertical-align: top;\n",
       "    }\n",
       "\n",
       "    .dataframe thead th {\n",
       "        text-align: right;\n",
       "    }\n",
       "</style>\n",
       "<table border=\"1\" class=\"dataframe\">\n",
       "  <thead>\n",
       "    <tr style=\"text-align: right;\">\n",
       "      <th></th>\n",
       "      <th>A</th>\n",
       "      <th>B</th>\n",
       "      <th>C</th>\n",
       "      <th>D</th>\n",
       "    </tr>\n",
       "  </thead>\n",
       "  <tbody>\n",
       "    <tr>\n",
       "      <th>2013-01-02</th>\n",
       "      <td>-1.484050</td>\n",
       "      <td>0.795454</td>\n",
       "      <td>0.423890</td>\n",
       "      <td>0.734881</td>\n",
       "    </tr>\n",
       "    <tr>\n",
       "      <th>2013-01-03</th>\n",
       "      <td>-2.344404</td>\n",
       "      <td>1.100718</td>\n",
       "      <td>-0.235809</td>\n",
       "      <td>0.910245</td>\n",
       "    </tr>\n",
       "    <tr>\n",
       "      <th>2013-01-04</th>\n",
       "      <td>1.157449</td>\n",
       "      <td>-1.552835</td>\n",
       "      <td>0.571136</td>\n",
       "      <td>0.810869</td>\n",
       "    </tr>\n",
       "  </tbody>\n",
       "</table>\n",
       "</div>"
      ],
      "text/plain": [
       "                   A         B         C         D\n",
       "2013-01-02 -1.484050  0.795454  0.423890  0.734881\n",
       "2013-01-03 -2.344404  1.100718 -0.235809  0.910245\n",
       "2013-01-04  1.157449 -1.552835  0.571136  0.810869"
      ]
     },
     "execution_count": 23,
     "metadata": {},
     "output_type": "execute_result"
    }
   ],
   "source": [
    "df[\"20130102\":\"20130104\"]# [row:row]"
   ]
  },
  {
   "cell_type": "code",
   "execution_count": null,
   "id": "df92de13-3b37-44d3-a46f-753124dddca7",
   "metadata": {},
   "outputs": [],
   "source": []
  }
 ],
 "metadata": {
  "kernelspec": {
   "display_name": "Python 3",
   "language": "python",
   "name": "python3"
  },
  "language_info": {
   "codemirror_mode": {
    "name": "ipython",
    "version": 3
   },
   "file_extension": ".py",
   "mimetype": "text/x-python",
   "name": "python",
   "nbconvert_exporter": "python",
   "pygments_lexer": "ipython3",
   "version": "3.9.1"
  }
 },
 "nbformat": 4,
 "nbformat_minor": 5
}
