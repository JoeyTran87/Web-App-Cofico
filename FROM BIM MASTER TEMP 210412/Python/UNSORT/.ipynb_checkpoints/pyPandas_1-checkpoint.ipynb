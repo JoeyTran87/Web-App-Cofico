{
 "cells": [
  {
   "cell_type": "code",
   "execution_count": 1,
   "id": "58266271-e32b-469b-ab36-97fa6f7975b5",
   "metadata": {},
   "outputs": [],
   "source": [
    "import pandas as pd\n",
    "import numpy as np\n",
    "import xlrd\n",
    "import matplotlib.pyplot as plt"
   ]
  },
  {
   "cell_type": "code",
   "execution_count": 2,
   "id": "8ba43c55-a473-415f-9795-9116f8274be2",
   "metadata": {},
   "outputs": [
    {
     "name": "stdout",
     "output_type": "stream",
     "text": [
      "<class 'pandas.core.frame.DataFrame'>\n",
      "RangeIndex: 264 entries, 0 to 263\n",
      "Data columns (total 13 columns):\n",
      " #   Column                     Non-Null Count  Dtype  \n",
      "---  ------                     --------------  -----  \n",
      " 0   ProjectNumber              264 non-null    object \n",
      " 1   Disciptline                264 non-null    object \n",
      " 2   TranslateCoordinateSystem  264 non-null    object \n",
      " 3   BuildingRegion             264 non-null    object \n",
      " 4   BuildingLevel              264 non-null    object \n",
      " 5   DataType                   264 non-null    object \n",
      " 6   Category                   264 non-null    object \n",
      " 7   Layer                      264 non-null    object \n",
      " 8   Position X                 264 non-null    float64\n",
      " 9   Position Y                 264 non-null    float64\n",
      " 10  Position Z                 264 non-null    int64  \n",
      " 11  Rotation                   264 non-null    int64  \n",
      " 12  Value                      264 non-null    object \n",
      "dtypes: float64(2), int64(2), object(9)\n",
      "memory usage: 26.9+ KB\n"
     ]
    }
   ],
   "source": [
    "path = r\"C:\\Users\\USER\\Documents\\GitHub\\cofico\\cofico\\FROM BIM MASTER TEMP 210412\\Python\\pyAutocad\\CAD DATA\\CHG_S_BA_01B_CL_(-3748120 675534)_210515--.json\"\n",
    "data = pd.read_json(path)\n",
    "# print(\"__Index: \",data.index) # VIEW DATA INDEX INFORMATION\n",
    "# print(\"__Columns: \",data.columns) # VIEW COLUMN NAMES\n",
    "# print(\"__Column Value: \",data['Value']) # VIEW COLUMN (S)\n",
    "# print(\"__Head : \",data.head()) #  VIEW TOP 5 ROWS DATA\n",
    "# print(\"__Head 10: \",data.head(10)) #  VIEW TOP ROWS DATA\n",
    "# print(\"__Tail: \",data.tail()) #  VIEW BOTTOM 5 ROWS DATA\n",
    "# print(\"__Tail 10: \",data.tail(10)) #  VIEW BOTTOM ROWS DATA\n",
    "data.info() # VIEW DATA INFORMATION IN GENERAL\n"
   ]
  },
  {
   "cell_type": "markdown",
   "id": "1c03a4c3-c0e9-4250-9dd0-02d49b7b9da8",
   "metadata": {},
   "source": [
    "*******************\n",
    "CLEAN DATA\n",
    "*******************"
   ]
  },
  {
   "cell_type": "code",
   "execution_count": 3,
   "id": "05da44fd-a151-483f-a4db-54f08fe456a3",
   "metadata": {},
   "outputs": [],
   "source": [
    "newData = data.dropna() # CLEAN EMPTY CELLS\n",
    "# print(newData.info())\n",
    "# print(newData.head())\n",
    "#CHANGE ORIGINAL DATA\n",
    "data.dropna(inplace = True)\n",
    "# print(data.info())\n",
    "data.fillna(130,inplace = True) # REPLACE NULL DATA BY ANOTHER VALUE EX. 130\n",
    "data['Value'].fillna(130,inplace = True) # REPLACE SPECIFIC COLUMN BY ANOTHER VALUE EX.130\n",
    "# REPLACE BY CALCULATE \"MEAN\" or MEDIAN or MODE\n",
    "#Mean = the average value (the sum of all values divided by number of values).\n",
    "# Median = the value in the middle, after you have sorted all values ascending.\n",
    "# Mode = the value that appears most frequently.\n",
    "xx = data[\"Value\"].mode()\n",
    "data[\"Value\"].fillna(xx, inplace = True)\n",
    "data.dropna(subset=['Value'], inplace = True)"
   ]
  },
  {
   "cell_type": "code",
   "execution_count": 4,
   "id": "6bd1e71a-918f-4f3d-9188-566dcf8326c3",
   "metadata": {},
   "outputs": [],
   "source": [
    "# REPLACE [row, column]\n",
    "data.loc[7, 'Value'] = 'DHDH'\n",
    "\n",
    "for x in data.index:\n",
    "    if data.loc[x,\"Value\"] == \"\":\n",
    "        data.loc[x,\"Value\"] == \"DHDH\""
   ]
  },
  {
   "cell_type": "code",
   "execution_count": 5,
   "id": "d6e6db72-80c7-42b9-aaaf-af8727bb693f",
   "metadata": {},
   "outputs": [
    {
     "name": "stdout",
     "output_type": "stream",
     "text": [
      "<class 'pandas.core.frame.DataFrame'>\n",
      "Int64Index: 252 entries, 0 to 263\n",
      "Data columns (total 13 columns):\n",
      " #   Column                     Non-Null Count  Dtype  \n",
      "---  ------                     --------------  -----  \n",
      " 0   ProjectNumber              252 non-null    object \n",
      " 1   Disciptline                252 non-null    object \n",
      " 2   TranslateCoordinateSystem  252 non-null    object \n",
      " 3   BuildingRegion             252 non-null    object \n",
      " 4   BuildingLevel              252 non-null    object \n",
      " 5   DataType                   252 non-null    object \n",
      " 6   Category                   252 non-null    object \n",
      " 7   Layer                      252 non-null    object \n",
      " 8   Position X                 252 non-null    float64\n",
      " 9   Position Y                 252 non-null    float64\n",
      " 10  Position Z                 252 non-null    int64  \n",
      " 11  Rotation                   252 non-null    int64  \n",
      " 12  Value                      252 non-null    object \n",
      "dtypes: float64(2), int64(2), object(9)\n",
      "memory usage: 27.6+ KB\n"
     ]
    }
   ],
   "source": [
    "#REMOVE DUPLICATE\n",
    "# print(data.duplicated())\n",
    "data.drop_duplicates(subset = [\"Value\"],inplace = True)\n",
    "data.info()"
   ]
  },
  {
   "cell_type": "code",
   "execution_count": 6,
   "id": "b6f886ff-5f47-4ed7-b877-8a8f15bdd603",
   "metadata": {},
   "outputs": [
    {
     "data": {
      "text/html": [
       "<div>\n",
       "<style scoped>\n",
       "    .dataframe tbody tr th:only-of-type {\n",
       "        vertical-align: middle;\n",
       "    }\n",
       "\n",
       "    .dataframe tbody tr th {\n",
       "        vertical-align: top;\n",
       "    }\n",
       "\n",
       "    .dataframe thead th {\n",
       "        text-align: right;\n",
       "    }\n",
       "</style>\n",
       "<table border=\"1\" class=\"dataframe\">\n",
       "  <thead>\n",
       "    <tr style=\"text-align: right;\">\n",
       "      <th></th>\n",
       "      <th>Position X</th>\n",
       "      <th>Position Y</th>\n",
       "      <th>Position Z</th>\n",
       "      <th>Rotation</th>\n",
       "    </tr>\n",
       "  </thead>\n",
       "  <tbody>\n",
       "    <tr>\n",
       "      <th>Position X</th>\n",
       "      <td>1.000000</td>\n",
       "      <td>-0.267931</td>\n",
       "      <td>NaN</td>\n",
       "      <td>-0.144255</td>\n",
       "    </tr>\n",
       "    <tr>\n",
       "      <th>Position Y</th>\n",
       "      <td>-0.267931</td>\n",
       "      <td>1.000000</td>\n",
       "      <td>NaN</td>\n",
       "      <td>0.252948</td>\n",
       "    </tr>\n",
       "    <tr>\n",
       "      <th>Position Z</th>\n",
       "      <td>NaN</td>\n",
       "      <td>NaN</td>\n",
       "      <td>NaN</td>\n",
       "      <td>NaN</td>\n",
       "    </tr>\n",
       "    <tr>\n",
       "      <th>Rotation</th>\n",
       "      <td>-0.144255</td>\n",
       "      <td>0.252948</td>\n",
       "      <td>NaN</td>\n",
       "      <td>1.000000</td>\n",
       "    </tr>\n",
       "  </tbody>\n",
       "</table>\n",
       "</div>"
      ],
      "text/plain": [
       "            Position X  Position Y  Position Z  Rotation\n",
       "Position X    1.000000   -0.267931         NaN -0.144255\n",
       "Position Y   -0.267931    1.000000         NaN  0.252948\n",
       "Position Z         NaN         NaN         NaN       NaN\n",
       "Rotation     -0.144255    0.252948         NaN  1.000000"
      ]
     },
     "execution_count": 6,
     "metadata": {},
     "output_type": "execute_result"
    }
   ],
   "source": [
    "data.corr()# Show the relationship between the columns"
   ]
  },
  {
   "cell_type": "code",
   "execution_count": 7,
   "id": "cb3af974-ba3d-47cc-8a0a-12acea015c2c",
   "metadata": {},
   "outputs": [
    {
     "data": {
      "image/png": "[encoded data removed]",
      "text/plain": [
       "<Figure size 432x288 with 1 Axes>"
      ]
     },
     "metadata": {
      "needs_background": "light"
     },
     "output_type": "display_data"
    }
   ],
   "source": [
    "data.plot(kind = 'scatter', x = 'Position X', y = 'Position Y')\n",
    "plt.show()"
   ]
  },
  {
   "cell_type": "code",
   "execution_count": 8,
   "id": "01ab031f-df16-47b5-8947-12cc92eb2917",
   "metadata": {},
   "outputs": [
    {
     "data": {
      "text/plain": [
       "0      VA-2.7\n",
       "1      VA-2.5\n",
       "2      VA-2.6\n",
       "3      VA-4.3\n",
       "4      VA-4.4\n",
       "        ...  \n",
       "259     C3.21\n",
       "260     C3.22\n",
       "261     C3.27\n",
       "262     C3.31\n",
       "263     C3.24\n",
       "Name: Value, Length: 252, dtype: object"
      ]
     },
     "execution_count": 8,
     "metadata": {},
     "output_type": "execute_result"
    }
   ],
   "source": [
    "data['Value']"
   ]
  },
  {
   "cell_type": "code",
   "execution_count": 9,
   "id": "749550db-3e0e-4fde-a340-a5a7227285ae",
   "metadata": {},
   "outputs": [],
   "source": [
    "valueArray = data[['Position X','Position Y','Rotation']].to_numpy()\n",
    "indexValue  = data['Value']\n",
    "columnValues = ['Position X','Position Y','Rotation']"
   ]
  },
  {
   "cell_type": "code",
   "execution_count": 11,
   "id": "262c02fb-d84d-4e97-8635-d0bbce23edb6",
   "metadata": {},
   "outputs": [
    {
     "data": {
      "text/html": [
       "<div>\n",
       "<style scoped>\n",
       "    .dataframe tbody tr th:only-of-type {\n",
       "        vertical-align: middle;\n",
       "    }\n",
       "\n",
       "    .dataframe tbody tr th {\n",
       "        vertical-align: top;\n",
       "    }\n",
       "\n",
       "    .dataframe thead th {\n",
       "        text-align: right;\n",
       "    }\n",
       "</style>\n",
       "<table border=\"1\" class=\"dataframe\">\n",
       "  <thead>\n",
       "    <tr style=\"text-align: right;\">\n",
       "      <th></th>\n",
       "      <th>Position X</th>\n",
       "      <th>Position Y</th>\n",
       "      <th>Rotation</th>\n",
       "    </tr>\n",
       "    <tr>\n",
       "      <th>Value</th>\n",
       "      <th></th>\n",
       "      <th></th>\n",
       "      <th></th>\n",
       "    </tr>\n",
       "  </thead>\n",
       "  <tbody>\n",
       "    <tr>\n",
       "      <th>VA-2.7</th>\n",
       "      <td>-3695841.968</td>\n",
       "      <td>760498.230</td>\n",
       "      <td>90.0</td>\n",
       "    </tr>\n",
       "    <tr>\n",
       "      <th>VA-2.5</th>\n",
       "      <td>-3713040.858</td>\n",
       "      <td>760539.930</td>\n",
       "      <td>90.0</td>\n",
       "    </tr>\n",
       "    <tr>\n",
       "      <th>VA-2.6</th>\n",
       "      <td>-3706758.858</td>\n",
       "      <td>760539.930</td>\n",
       "      <td>90.0</td>\n",
       "    </tr>\n",
       "    <tr>\n",
       "      <th>VA-4.3</th>\n",
       "      <td>-3747873.168</td>\n",
       "      <td>743559.269</td>\n",
       "      <td>0.0</td>\n",
       "    </tr>\n",
       "    <tr>\n",
       "      <th>VA-4.4</th>\n",
       "      <td>-3747873.168</td>\n",
       "      <td>740015.371</td>\n",
       "      <td>0.0</td>\n",
       "    </tr>\n",
       "    <tr>\n",
       "      <th>...</th>\n",
       "      <td>...</td>\n",
       "      <td>...</td>\n",
       "      <td>...</td>\n",
       "    </tr>\n",
       "    <tr>\n",
       "      <th>C3.21</th>\n",
       "      <td>-3707448.807</td>\n",
       "      <td>675340.037</td>\n",
       "      <td>0.0</td>\n",
       "    </tr>\n",
       "    <tr>\n",
       "      <th>C3.22</th>\n",
       "      <td>-3707448.807</td>\n",
       "      <td>673952.552</td>\n",
       "      <td>0.0</td>\n",
       "    </tr>\n",
       "    <tr>\n",
       "      <th>C3.27</th>\n",
       "      <td>-3687048.807</td>\n",
       "      <td>675340.037</td>\n",
       "      <td>0.0</td>\n",
       "    </tr>\n",
       "    <tr>\n",
       "      <th>C3.31</th>\n",
       "      <td>-3678298.807</td>\n",
       "      <td>673952.552</td>\n",
       "      <td>0.0</td>\n",
       "    </tr>\n",
       "    <tr>\n",
       "      <th>C3.24</th>\n",
       "      <td>-3699448.807</td>\n",
       "      <td>673952.552</td>\n",
       "      <td>0.0</td>\n",
       "    </tr>\n",
       "  </tbody>\n",
       "</table>\n",
       "<p>252 rows × 3 columns</p>\n",
       "</div>"
      ],
      "text/plain": [
       "         Position X  Position Y  Rotation\n",
       "Value                                    \n",
       "VA-2.7 -3695841.968  760498.230      90.0\n",
       "VA-2.5 -3713040.858  760539.930      90.0\n",
       "VA-2.6 -3706758.858  760539.930      90.0\n",
       "VA-4.3 -3747873.168  743559.269       0.0\n",
       "VA-4.4 -3747873.168  740015.371       0.0\n",
       "...             ...         ...       ...\n",
       "C3.21  -3707448.807  675340.037       0.0\n",
       "C3.22  -3707448.807  673952.552       0.0\n",
       "C3.27  -3687048.807  675340.037       0.0\n",
       "C3.31  -3678298.807  673952.552       0.0\n",
       "C3.24  -3699448.807  673952.552       0.0\n",
       "\n",
       "[252 rows x 3 columns]"
      ]
     },
     "execution_count": 11,
     "metadata": {},
     "output_type": "execute_result"
    }
   ],
   "source": [
    "newdata2 = pd.DataFrame(valueArray,index  = indexValue,columns = columnValues)\n",
    "newdata2"
   ]
  },
  {
   "cell_type": "code",
   "execution_count": 20,
   "id": "54af369a-d76e-4c08-8d7c-061ecad0eb30",
   "metadata": {},
   "outputs": [
    {
     "data": {
      "image/png": "[encoded data removed]",
      "text/plain": [
       "<Figure size 432x288 with 1 Axes>"
      ]
     },
     "metadata": {
      "needs_background": "light"
     },
     "output_type": "display_data"
    }
   ],
   "source": [
    "newdata2.plot(kind = 'scatter', x = 'Position X', y = 'Position Y') #RE CONSTRUCT NEW DATA CLEANED + FILTERED\n",
    "plt.show()\n",
    "\n",
    "# x = newdata2[\"Position X\"]\n",
    "# y = newdata2[\"Position Y\"]\n",
    "# plt.scatter(x, y)\n",
    "# plt.show()\n"
   ]
  },
  {
   "cell_type": "code",
   "execution_count": 16,
   "id": "04dbf449-974d-4ba9-91fe-d31621571ea9",
   "metadata": {},
   "outputs": [
    {
     "data": {
      "text/html": [
       "<div>\n",
       "<style scoped>\n",
       "    .dataframe tbody tr th:only-of-type {\n",
       "        vertical-align: middle;\n",
       "    }\n",
       "\n",
       "    .dataframe tbody tr th {\n",
       "        vertical-align: top;\n",
       "    }\n",
       "\n",
       "    .dataframe thead th {\n",
       "        text-align: right;\n",
       "    }\n",
       "</style>\n",
       "<table border=\"1\" class=\"dataframe\">\n",
       "  <thead>\n",
       "    <tr style=\"text-align: right;\">\n",
       "      <th></th>\n",
       "      <th>Position X</th>\n",
       "      <th>Position Y</th>\n",
       "      <th>Rotation</th>\n",
       "    </tr>\n",
       "    <tr>\n",
       "      <th>Value</th>\n",
       "      <th></th>\n",
       "      <th></th>\n",
       "      <th></th>\n",
       "    </tr>\n",
       "  </thead>\n",
       "  <tbody>\n",
       "    <tr>\n",
       "      <th>H1</th>\n",
       "      <td>-3740309.553</td>\n",
       "      <td>828325.567</td>\n",
       "      <td>0.0</td>\n",
       "    </tr>\n",
       "    <tr>\n",
       "      <th>C4.28</th>\n",
       "      <td>-3671145.199</td>\n",
       "      <td>766751.206</td>\n",
       "      <td>0.0</td>\n",
       "    </tr>\n",
       "    <tr>\n",
       "      <th>C4.27</th>\n",
       "      <td>-3678340.134</td>\n",
       "      <td>766751.206</td>\n",
       "      <td>0.0</td>\n",
       "    </tr>\n",
       "    <tr>\n",
       "      <th>C4.29</th>\n",
       "      <td>-3665970.199</td>\n",
       "      <td>766751.206</td>\n",
       "      <td>0.0</td>\n",
       "    </tr>\n",
       "    <tr>\n",
       "      <th>C4.26</th>\n",
       "      <td>-3680738.779</td>\n",
       "      <td>766751.206</td>\n",
       "      <td>0.0</td>\n",
       "    </tr>\n",
       "    <tr>\n",
       "      <th>...</th>\n",
       "      <td>...</td>\n",
       "      <td>...</td>\n",
       "      <td>...</td>\n",
       "    </tr>\n",
       "    <tr>\n",
       "      <th>C4.37</th>\n",
       "      <td>-3689020.199</td>\n",
       "      <td>608351.187</td>\n",
       "      <td>0.0</td>\n",
       "    </tr>\n",
       "    <tr>\n",
       "      <th>C4.35</th>\n",
       "      <td>-3698415.134</td>\n",
       "      <td>608351.187</td>\n",
       "      <td>0.0</td>\n",
       "    </tr>\n",
       "    <tr>\n",
       "      <th>C4.42</th>\n",
       "      <td>-3662140.134</td>\n",
       "      <td>608351.187</td>\n",
       "      <td>0.0</td>\n",
       "    </tr>\n",
       "    <tr>\n",
       "      <th>C4.40</th>\n",
       "      <td>-3673115.134</td>\n",
       "      <td>608351.187</td>\n",
       "      <td>0.0</td>\n",
       "    </tr>\n",
       "    <tr>\n",
       "      <th>C4.36</th>\n",
       "      <td>-3692470.199</td>\n",
       "      <td>608351.187</td>\n",
       "      <td>0.0</td>\n",
       "    </tr>\n",
       "  </tbody>\n",
       "</table>\n",
       "<p>252 rows × 3 columns</p>\n",
       "</div>"
      ],
      "text/plain": [
       "        Position X  Position Y  Rotation\n",
       "Value                                   \n",
       "H1    -3740309.553  828325.567       0.0\n",
       "C4.28 -3671145.199  766751.206       0.0\n",
       "C4.27 -3678340.134  766751.206       0.0\n",
       "C4.29 -3665970.199  766751.206       0.0\n",
       "C4.26 -3680738.779  766751.206       0.0\n",
       "...            ...         ...       ...\n",
       "C4.37 -3689020.199  608351.187       0.0\n",
       "C4.35 -3698415.134  608351.187       0.0\n",
       "C4.42 -3662140.134  608351.187       0.0\n",
       "C4.40 -3673115.134  608351.187       0.0\n",
       "C4.36 -3692470.199  608351.187       0.0\n",
       "\n",
       "[252 rows x 3 columns]"
      ]
     },
     "execution_count": 16,
     "metadata": {},
     "output_type": "execute_result"
    }
   ],
   "source": [
    "newdata2.sort_values(by=\"Position Y\",inplace = True, ascending = False)\n",
    "newdata2"
   ]
  },
  {
   "cell_type": "code",
   "execution_count": null,
   "id": "e4cb2de1-a97e-4cb9-aa49-010e85cd635f",
   "metadata": {},
   "outputs": [],
   "source": []
  }
 ],
 "metadata": {
  "kernelspec": {
   "display_name": "Python 3",
   "language": "python",
   "name": "python3"
  },
  "language_info": {
   "codemirror_mode": {
    "name": "ipython",
    "version": 3
   },
   "file_extension": ".py",
   "mimetype": "text/x-python",
   "name": "python",
   "nbconvert_exporter": "python",
   "pygments_lexer": "ipython3",
   "version": "3.9.1"
  }
 },
 "nbformat": 4,
 "nbformat_minor": 5
}
