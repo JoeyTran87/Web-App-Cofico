{
 "cells": [
  {
   "cell_type": "code",
   "execution_count": 1,
   "id": "423a9dec-e87e-4232-afbd-92ad5ae876a3",
   "metadata": {
    "tags": []
   },
   "outputs": [],
   "source": [
    "import pyautocad, _lib\n",
    "from pyautocad import *\n",
    "from _lib import *\n",
    "import comtypes.client\n",
    "import time"
   ]
  },
  {
   "cell_type": "markdown",
   "id": "682559e2-f711-490a-90d1-a4401845a9aa",
   "metadata": {
    "tags": []
   },
   "source": [
    "# INPUT: AUTOCAD FILE NAME"
   ]
  },
  {
   "cell_type": "code",
   "execution_count": 2,
   "id": "17342df4-3c49-4921-aa66-22dbe4a30076",
   "metadata": {
    "tags": []
   },
   "outputs": [
    {
     "name": "stdin",
     "output_type": "stream",
     "text": [
      "File Name Path:  C:\\Users\\USER\\Downloads\\CHG\\Acad (1)\\Phan Ngam\\Mat bang cot.dwg\n"
     ]
    },
    {
     "name": "stdout",
     "output_type": "stream",
     "text": [
      "C:\\Users\\USER\\Downloads\\CHG\\Acad (1)\\Phan Ngam\\Mat bang cot.dwg\n"
     ]
    }
   ],
   "source": [
    "cadExtr = cadExtractor()\n",
    "path = cadExtr.fileName"
   ]
  },
  {
   "cell_type": "code",
   "execution_count": 3,
   "id": "7644e187-f927-4342-9b97-3afd1c99c3dd",
   "metadata": {},
   "outputs": [
    {
     "ename": "NameError",
     "evalue": "name 'fileName' is not defined",
     "output_type": "error",
     "traceback": [
      "\u001b[1;31m---------------------------------------------------------------------------\u001b[0m",
      "\u001b[1;31mNameError\u001b[0m                                 Traceback (most recent call last)",
      "\u001b[1;32m<ipython-input-3-85bf5be62712>\u001b[0m in \u001b[0;36m<module>\u001b[1;34m\u001b[0m\n\u001b[0;32m      6\u001b[0m     \u001b[0mtime\u001b[0m\u001b[1;33m.\u001b[0m\u001b[0msleep\u001b[0m\u001b[1;33m(\u001b[0m\u001b[1;36m5\u001b[0m\u001b[1;33m)\u001b[0m\u001b[1;33m\u001b[0m\u001b[1;33m\u001b[0m\u001b[0m\n\u001b[0;32m      7\u001b[0m \u001b[0macad\u001b[0m\u001b[1;33m.\u001b[0m\u001b[0mVisible\u001b[0m \u001b[1;33m=\u001b[0m \u001b[1;32mTrue\u001b[0m\u001b[1;33m\u001b[0m\u001b[1;33m\u001b[0m\u001b[0m\n\u001b[1;32m----> 8\u001b[1;33m \u001b[0mpath\u001b[0m \u001b[1;33m=\u001b[0m \u001b[0mfileName\u001b[0m\u001b[1;33m\u001b[0m\u001b[1;33m\u001b[0m\u001b[0m\n\u001b[0m\u001b[0;32m      9\u001b[0m \u001b[0mdoc\u001b[0m \u001b[1;33m=\u001b[0m \u001b[0macad\u001b[0m\u001b[1;33m.\u001b[0m\u001b[0mDocuments\u001b[0m\u001b[1;33m.\u001b[0m\u001b[0mOpen\u001b[0m\u001b[1;33m(\u001b[0m\u001b[0mpath\u001b[0m\u001b[1;33m)\u001b[0m\u001b[1;33m\u001b[0m\u001b[1;33m\u001b[0m\u001b[0m\n",
      "\u001b[1;31mNameError\u001b[0m: name 'fileName' is not defined"
     ]
    }
   ],
   "source": [
    "try:\n",
    "    acad = comtypes.client.GetActiveObject(\"AutoCAD.Application\")\n",
    "except:\n",
    "    acad = comtypes.client.CreateObject(\"AutoCAD.Application\")\n",
    "while not acad.GetAcadState().IsQuiescent :\n",
    "    time.sleep(5)\n",
    "acad.Visible = True\n",
    "doc = acad.Documents.Open(path)"
   ]
  },
  {
   "cell_type": "code",
   "execution_count": null,
   "id": "1da5dd34-6438-4a05-a765-860694d9610f",
   "metadata": {},
   "outputs": [],
   "source": [
    "acad = Autocad()\n",
    "acad.prompt(\"Hello, Autocad from Python\")\n",
    "print (acad.doc.Name)"
   ]
  },
  {
   "cell_type": "code",
   "execution_count": null,
   "id": "4c285f9e-8edd-468a-9d9c-30c8a08fa8a3",
   "metadata": {},
   "outputs": [],
   "source": [
    "res = []\n",
    "for obj in acad.iter_objects_fast('Text'):\n",
    "    res.append( obj)\n",
    "    print (obj.TextString)\n",
    "    try:\n",
    "        obj.Alignment = 0\n",
    "#         print(obj.TextAlignmentPoint,obj.InsertionPoint)\n",
    "    except Exception as ex:\n",
    "        print(ex)"
   ]
  },
  {
   "cell_type": "code",
   "execution_count": null,
   "id": "fd68cacb-a9c9-4c53-bf90-87b523530cc3",
   "metadata": {},
   "outputs": [],
   "source": []
  }
 ],
 "metadata": {
  "kernelspec": {
   "display_name": "Python 3",
   "language": "python",
   "name": "python3"
  },
  "language_info": {
   "codemirror_mode": {
    "name": "ipython",
    "version": 3
   },
   "file_extension": ".py",
   "mimetype": "text/x-python",
   "name": "python",
   "nbconvert_exporter": "python",
   "pygments_lexer": "ipython3",
   "version": "3.9.1"
  }
 },
 "nbformat": 4,
 "nbformat_minor": 5
}
