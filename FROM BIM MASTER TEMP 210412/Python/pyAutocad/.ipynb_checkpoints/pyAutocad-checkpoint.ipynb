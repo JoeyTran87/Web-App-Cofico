{
 "cells": [
  {
   "cell_type": "code",
   "execution_count": 24,
   "id": "4779bfaa-d885-4e02-ad7a-35f5642f594c",
   "metadata": {},
   "outputs": [],
   "source": [
    "import pyautocad\n",
    "from pyautocad import Autocad, APoint,aDouble"
   ]
  },
  {
   "cell_type": "code",
   "execution_count": 4,
   "id": "deb4a655-2eae-4e85-acd8-73a5cdfa8d94",
   "metadata": {},
   "outputs": [
    {
     "name": "stdout",
     "output_type": "stream",
     "text": [
      "Hello, Autocad from Python\n",
      "\n",
      "BLOCK DYBN 2.dwg\n"
     ]
    }
   ],
   "source": [
    "acad = Autocad()\n",
    "acad.prompt(\"Hello, Autocad from Python\\n\")\n",
    "print (acad.doc.Name)"
   ]
  },
  {
   "cell_type": "code",
   "execution_count": 15,
   "id": "458e8726-b595-4c2f-8ae7-4d471a131de3",
   "metadata": {},
   "outputs": [
    {
     "name": "stdout",
     "output_type": "stream",
     "text": [
      "Current layer: RB_TAG\n",
      "Linetype: ByLayer\n",
      "LinetypeScale: 1.0\n",
      "Lineweight: -1\n",
      "Thickness: 0.0\n",
      "Material: ByLayer\n"
     ]
    }
   ],
   "source": [
    "p1 = APoint(0, 0) # point có the cong tru nhan chia\n",
    "p2 = APoint(50, 25)\n",
    "point = acad.model.AddPoint(p2)\n",
    "line = acad.model.AddLine(p1, p2)\n",
    "# for i in range(5):\n",
    "#     text = acad.model.AddText('Hi %s!' % i, p1, 2.5)\n",
    "#     acad.model.AddLine(p1, p2)\n",
    "#     acad.model.AddCircle(p1, 10)\n",
    "#     p1.y += 10\n",
    "\n",
    "# dp = APoint(10, 0)\n",
    "# for text in acad.iter_objects('Text'):\n",
    "#     print('text: %s at: %s' % (text.TextString, text.InsertionPoint))\n",
    "#     text.InsertionPoint = APoint(text.InsertionPoint) + dp\n",
    "\n",
    "# for obj in acad.iter_objects(['Circle', 'Line']):\n",
    "#     print(obj.ObjectName)\n",
    "\n",
    "#check layer & all property of element\n",
    "print(\"Current layer:\",str(line.Layer))\n",
    "print(\"Linetype:\",str(line.Linetype))\n",
    "print(\"LinetypeScale:\",str(line.LinetypeScale))\n",
    "print(\"Lineweight:\",str(line.Lineweight))\n",
    "print(\"Thickness:\",str(line.Thickness))\n",
    "print(\"Material:\",str(line.Material))\n",
    "\n",
    "line.Layer = \"0\"\n"
   ]
  },
  {
   "cell_type": "code",
   "execution_count": 17,
   "id": "072f3c0d-6f27-4317-a2e4-e1b269afe918",
   "metadata": {},
   "outputs": [],
   "source": [
    "acad.app.ZoomAll()# zoom all command"
   ]
  },
  {
   "cell_type": "code",
   "execution_count": 18,
   "id": "ce1c69fb-8f5c-4fe2-9c49-b9549ec5e332",
   "metadata": {},
   "outputs": [],
   "source": [
    "docsAcitve = [doc for doc in acad.app.Documents] # get all document opening"
   ]
  },
  {
   "cell_type": "code",
   "execution_count": 20,
   "id": "797636ee-db6e-4ab6-a5f3-743e5ceaa407",
   "metadata": {},
   "outputs": [
    {
     "name": "stdout",
     "output_type": "stream",
     "text": [
      "55.90169943749474\n"
     ]
    }
   ],
   "source": [
    "distance = p1.distance_to(p2)\n",
    "print(distance)"
   ]
  },
  {
   "cell_type": "code",
   "execution_count": 25,
   "id": "3ed93574-311d-4c36-acf7-fc150d492de9",
   "metadata": {},
   "outputs": [],
   "source": [
    "polylineMatrix = aDouble(0,0,100,300,400,-100,0,300,-300) # có thể dùng array.array(\"d\",[0,0,0,0]) để thay thế aDouble\n",
    "polyline = acad.model.AddPolyline(polylineMatrix) "
   ]
  },
  {
   "cell_type": "code",
   "execution_count": 26,
   "id": "b4bd16e3-c06b-4687-8a37-6846c6807e21",
   "metadata": {},
   "outputs": [],
   "source": [
    "import array\n",
    "help(array.array)"
   ]
  },
  {
   "cell_type": "code",
   "execution_count": 53,
   "id": "45cbed6a-10fc-4d5d-80a4-28b69db7122d",
   "metadata": {},
   "outputs": [
    {
     "name": "stdout",
     "output_type": "stream",
     "text": [
      "*Model_Space\n",
      "*Paper_Space\n",
      "*Paper_Space0\n",
      "1\n"
     ]
    }
   ],
   "source": [
    "blocks = []\n",
    "for block in acad.doc.Blocks:\n",
    "    print(block.Name)\n",
    "    blocks.append(block)\n",
    "blockss = []\n",
    "for bl in blocks:\n",
    "    for b in bl:\n",
    "        blockss.append(b)\n",
    "        \n",
    "print(len(blockss))"
   ]
  },
  {
   "cell_type": "code",
   "execution_count": null,
   "id": "3459af86-3f55-4fd4-a407-542bab6880f3",
   "metadata": {},
   "outputs": [],
   "source": []
  }
 ],
 "metadata": {
  "kernelspec": {
   "display_name": "Python 3",
   "language": "python",
   "name": "python3"
  },
  "language_info": {
   "codemirror_mode": {
    "name": "ipython",
    "version": 3
   },
   "file_extension": ".py",
   "mimetype": "text/x-python",
   "name": "python",
   "nbconvert_exporter": "python",
   "pygments_lexer": "ipython3",
   "version": "3.9.1"
  }
 },
 "nbformat": 4,
 "nbformat_minor": 5
}
