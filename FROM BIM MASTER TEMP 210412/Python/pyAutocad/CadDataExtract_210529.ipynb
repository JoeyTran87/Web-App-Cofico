{
 "cells": [
  {
   "cell_type": "code",
   "execution_count": 1,
   "id": "423a9dec-e87e-4232-afbd-92ad5ae876a3",
   "metadata": {
    "tags": []
   },
   "outputs": [],
   "source": [
    "import pyautocad, _lib\n",
    "from pyautocad import *\n",
    "from _lib import *\n",
    "import comtypes.client\n",
    "import time"
   ]
  },
  {
   "cell_type": "markdown",
   "id": "682559e2-f711-490a-90d1-a4401845a9aa",
   "metadata": {
    "tags": []
   },
   "source": [
    "# INPUT: AUTOCAD FILE NAME"
   ]
  },
  {
   "cell_type": "code",
   "execution_count": 4,
   "id": "17342df4-3c49-4921-aa66-22dbe4a30076",
   "metadata": {
    "tags": []
   },
   "outputs": [
    {
     "name": "stdin",
     "output_type": "stream",
     "text": [
      "File Name Path:  C:\\Users\\USER\\Downloads\\CHG\\Acad (1)\\Phan Ngam\\Mat bang cot.dwg\n"
     ]
    },
    {
     "name": "stdout",
     "output_type": "stream",
     "text": [
      "C:\\Users\\USER\\Downloads\\CHG\\Acad (1)\\Phan Ngam\\Mat bang cot.dwg\n"
     ]
    }
   ],
   "source": [
    "cadExtr = cadExtractor()\n",
    "path = cadExtr.fileName"
   ]
  },
  {
   "cell_type": "code",
   "execution_count": 7,
   "id": "7644e187-f927-4342-9b97-3afd1c99c3dd",
   "metadata": {},
   "outputs": [],
   "source": [
    "try:\n",
    "    acad = comtypes.client.GetActiveObject(\"AutoCAD.Application\")\n",
    "except:\n",
    "    acad = comtypes.client.CreateObject(\"AutoCAD.Application\")\n",
    "# while not acad.GetAcadState().IsQuiescent :\n",
    "#     time.sleep(5)\n",
    "acad.Visible = True\n",
    "# doc = acad.Documents.Open(path)\n"
   ]
  },
  {
   "cell_type": "code",
   "execution_count": null,
   "id": "1da5dd34-6438-4a05-a765-860694d9610f",
   "metadata": {},
   "outputs": [],
   "source": [
    "acad = Autocad()\n",
    "acad.prompt(\"Hello, Autocad from Python\")\n",
    "print (acad.doc.Name)"
   ]
  },
  {
   "cell_type": "code",
   "execution_count": null,
   "id": "4c285f9e-8edd-468a-9d9c-30c8a08fa8a3",
   "metadata": {},
   "outputs": [],
   "source": [
    "res = []\n",
    "for obj in acad.iter_objects_fast('Text'):\n",
    "    res.append( obj)\n",
    "    print (obj.TextString)\n",
    "    try:\n",
    "        obj.Alignment = 0\n",
    "#         print(obj.TextAlignmentPoint,obj.InsertionPoint)\n",
    "    except Exception as ex:\n",
    "        print(ex)"
   ]
  },
  {
   "cell_type": "code",
   "execution_count": 8,
   "id": "fd68cacb-a9c9-4c53-bf90-87b523530cc3",
   "metadata": {},
   "outputs": [
    {
     "data": {
      "text/plain": [
       "['ActiveDocument',\n",
       " 'AddRef',\n",
       " 'Application',\n",
       " 'Caption',\n",
       " 'Documents',\n",
       " 'Eval',\n",
       " 'FullName',\n",
       " 'GetAcadState',\n",
       " 'GetIDsOfNames',\n",
       " 'GetInterfaceObject',\n",
       " 'GetTypeInfo',\n",
       " 'GetTypeInfoCount',\n",
       " 'HWND',\n",
       " 'Height',\n",
       " 'Invoke',\n",
       " 'ListArx',\n",
       " 'LoadArx',\n",
       " 'LoadDVB',\n",
       " 'LocaleId',\n",
       " 'MenuBar',\n",
       " 'MenuGroups',\n",
       " 'Name',\n",
       " 'Path',\n",
       " 'Preferences',\n",
       " 'QueryInterface',\n",
       " 'Quit',\n",
       " 'Release',\n",
       " 'RunMacro',\n",
       " 'StatusId',\n",
       " 'UnloadArx',\n",
       " 'UnloadDVB',\n",
       " 'Update',\n",
       " 'VBE',\n",
       " 'Version',\n",
       " 'Visible',\n",
       " 'Width',\n",
       " 'WindowLeft',\n",
       " 'WindowState',\n",
       " 'WindowTop',\n",
       " 'Zoom',\n",
       " 'ZoomAll',\n",
       " 'ZoomCenter',\n",
       " 'ZoomExtents',\n",
       " 'ZoomPickWindow',\n",
       " 'ZoomPrevious',\n",
       " 'ZoomScaled',\n",
       " 'ZoomWindow',\n",
       " '_AddRef',\n",
       " '_GetIDsOfNames',\n",
       " '_GetTypeInfo',\n",
       " '_IAcadApplication__com_Eval',\n",
       " '_IAcadApplication__com_GetAcadState',\n",
       " '_IAcadApplication__com_GetInterfaceObject',\n",
       " '_IAcadApplication__com_ListArx',\n",
       " '_IAcadApplication__com_LoadArx',\n",
       " '_IAcadApplication__com_LoadDVB',\n",
       " '_IAcadApplication__com_Quit',\n",
       " '_IAcadApplication__com_RunMacro',\n",
       " '_IAcadApplication__com_UnloadArx',\n",
       " '_IAcadApplication__com_UnloadDVB',\n",
       " '_IAcadApplication__com_Update',\n",
       " '_IAcadApplication__com_Zoom',\n",
       " '_IAcadApplication__com_ZoomAll',\n",
       " '_IAcadApplication__com_ZoomCenter',\n",
       " '_IAcadApplication__com_ZoomExtents',\n",
       " '_IAcadApplication__com_ZoomPickWindow',\n",
       " '_IAcadApplication__com_ZoomPrevious',\n",
       " '_IAcadApplication__com_ZoomScaled',\n",
       " '_IAcadApplication__com_ZoomWindow',\n",
       " '_IAcadApplication__com__get_ActiveDocument',\n",
       " '_IAcadApplication__com__get_Application',\n",
       " '_IAcadApplication__com__get_Caption',\n",
       " '_IAcadApplication__com__get_Documents',\n",
       " '_IAcadApplication__com__get_FullName',\n",
       " '_IAcadApplication__com__get_HWND',\n",
       " '_IAcadApplication__com__get_Height',\n",
       " '_IAcadApplication__com__get_LocaleId',\n",
       " '_IAcadApplication__com__get_MenuBar',\n",
       " '_IAcadApplication__com__get_MenuGroups',\n",
       " '_IAcadApplication__com__get_Name',\n",
       " '_IAcadApplication__com__get_Path',\n",
       " '_IAcadApplication__com__get_Preferences',\n",
       " '_IAcadApplication__com__get_StatusId',\n",
       " '_IAcadApplication__com__get_VBE',\n",
       " '_IAcadApplication__com__get_Version',\n",
       " '_IAcadApplication__com__get_Visible',\n",
       " '_IAcadApplication__com__get_Width',\n",
       " '_IAcadApplication__com__get_WindowLeft',\n",
       " '_IAcadApplication__com__get_WindowState',\n",
       " '_IAcadApplication__com__get_WindowTop',\n",
       " '_IAcadApplication__com__set_ActiveDocument',\n",
       " '_IAcadApplication__com__set_Height',\n",
       " '_IAcadApplication__com__set_Visible',\n",
       " '_IAcadApplication__com__set_Width',\n",
       " '_IAcadApplication__com__set_WindowLeft',\n",
       " '_IAcadApplication__com__set_WindowState',\n",
       " '_IAcadApplication__com__set_WindowTop',\n",
       " '_IDispatch__com_GetIDsOfNames',\n",
       " '_IDispatch__com_GetTypeInfo',\n",
       " '_IDispatch__com_GetTypeInfoCount',\n",
       " '_IDispatch__com_Invoke',\n",
       " '_IUnknown__com_AddRef',\n",
       " '_IUnknown__com_QueryInterface',\n",
       " '_IUnknown__com_Release',\n",
       " '_Invoke',\n",
       " '_QueryInterface',\n",
       " '_Release',\n",
       " '__bool__',\n",
       " '__class__',\n",
       " '__clsid',\n",
       " '__cmp__',\n",
       " '__com_interface__',\n",
       " '__ctypes_from_outparam__',\n",
       " '__del__',\n",
       " '__delattr__',\n",
       " '__dict__',\n",
       " '__dir__',\n",
       " '__doc__',\n",
       " '__eq__',\n",
       " '__format__',\n",
       " '__ge__',\n",
       " '__getattr__',\n",
       " '__getattribute__',\n",
       " '__gt__',\n",
       " '__hash__',\n",
       " '__init__',\n",
       " '__init_subclass__',\n",
       " '__le__',\n",
       " '__lt__',\n",
       " '__map_case__',\n",
       " '__module__',\n",
       " '__ne__',\n",
       " '__new__',\n",
       " '__reduce__',\n",
       " '__reduce_ex__',\n",
       " '__repr__',\n",
       " '__setattr__',\n",
       " '__setstate__',\n",
       " '__sizeof__',\n",
       " '__str__',\n",
       " '__subclasshook__',\n",
       " '__weakref__',\n",
       " '_b_base_',\n",
       " '_b_needsfree_',\n",
       " '_case_insensitive_',\n",
       " '_compointer_base__get_value',\n",
       " '_idlflags_',\n",
       " '_iid_',\n",
       " '_invoke',\n",
       " '_methods_',\n",
       " '_needs_com_addref_',\n",
       " '_objects',\n",
       " '_type_',\n",
       " 'from_param',\n",
       " 'value']"
      ]
     },
     "execution_count": 8,
     "metadata": {},
     "output_type": "execute_result"
    }
   ],
   "source": [
    "dir(acad)"
   ]
  },
  {
   "cell_type": "code",
   "execution_count": 9,
   "id": "b64fe1a4-b70c-4f4c-a427-5774eb1ee343",
   "metadata": {},
   "outputs": [
    {
     "data": {
      "text/plain": [
       "<POINTER(IAcadDocuments) ptr=0x15b904ecc18 at 15b9187da40>"
      ]
     },
     "execution_count": 9,
     "metadata": {},
     "output_type": "execute_result"
    }
   ],
   "source": [
    "acad.Documents"
   ]
  },
  {
   "cell_type": "code",
   "execution_count": 11,
   "id": "59a1af8e-3326-4b86-a121-5d58161962cd",
   "metadata": {},
   "outputs": [
    {
     "name": "stdout",
     "output_type": "stream",
     "text": [
      "Mat bang cot.dwg\n"
     ]
    }
   ],
   "source": [
    "for doc in acad.Documents:\n",
    "    print (doc.Name)"
   ]
  },
  {
   "cell_type": "code",
   "execution_count": 13,
   "id": "0a5bdbb5-8374-427a-b3c0-35e10e96afff",
   "metadata": {},
   "outputs": [
    {
     "data": {
      "text/plain": [
       "['AddRef',\n",
       " 'Application',\n",
       " 'GetIDsOfNames',\n",
       " 'GetTypeInfo',\n",
       " 'GetTypeInfoCount',\n",
       " 'Invoke',\n",
       " 'IsQuiescent',\n",
       " 'QueryInterface',\n",
       " 'Release',\n",
       " '_AddRef',\n",
       " '_GetIDsOfNames',\n",
       " '_GetTypeInfo',\n",
       " '_IAcadState__com__get_Application',\n",
       " '_IAcadState__com__get_IsQuiescent',\n",
       " '_IDispatch__com_GetIDsOfNames',\n",
       " '_IDispatch__com_GetTypeInfo',\n",
       " '_IDispatch__com_GetTypeInfoCount',\n",
       " '_IDispatch__com_Invoke',\n",
       " '_IUnknown__com_AddRef',\n",
       " '_IUnknown__com_QueryInterface',\n",
       " '_IUnknown__com_Release',\n",
       " '_Invoke',\n",
       " '_QueryInterface',\n",
       " '_Release',\n",
       " '__bool__',\n",
       " '__class__',\n",
       " '__cmp__',\n",
       " '__com_interface__',\n",
       " '__ctypes_from_outparam__',\n",
       " '__del__',\n",
       " '__delattr__',\n",
       " '__dict__',\n",
       " '__dir__',\n",
       " '__doc__',\n",
       " '__eq__',\n",
       " '__format__',\n",
       " '__ge__',\n",
       " '__getattr__',\n",
       " '__getattribute__',\n",
       " '__gt__',\n",
       " '__hash__',\n",
       " '__init__',\n",
       " '__init_subclass__',\n",
       " '__le__',\n",
       " '__lt__',\n",
       " '__map_case__',\n",
       " '__module__',\n",
       " '__ne__',\n",
       " '__new__',\n",
       " '__reduce__',\n",
       " '__reduce_ex__',\n",
       " '__repr__',\n",
       " '__setattr__',\n",
       " '__setstate__',\n",
       " '__sizeof__',\n",
       " '__str__',\n",
       " '__subclasshook__',\n",
       " '__weakref__',\n",
       " '_b_base_',\n",
       " '_b_needsfree_',\n",
       " '_case_insensitive_',\n",
       " '_compointer_base__get_value',\n",
       " '_idlflags_',\n",
       " '_iid_',\n",
       " '_invoke',\n",
       " '_methods_',\n",
       " '_needs_com_addref_',\n",
       " '_objects',\n",
       " '_type_',\n",
       " 'from_param',\n",
       " 'value']"
      ]
     },
     "execution_count": 13,
     "metadata": {},
     "output_type": "execute_result"
    }
   ],
   "source": [
    "dir(acad.GetAcadState())"
   ]
  },
  {
   "cell_type": "code",
   "execution_count": null,
   "id": "08d18dd3-16e5-4c0c-babf-cea1e989b77d",
   "metadata": {},
   "outputs": [],
   "source": []
  }
 ],
 "metadata": {
  "kernelspec": {
   "display_name": "Python 3",
   "language": "python",
   "name": "python3"
  },
  "language_info": {
   "codemirror_mode": {
    "name": "ipython",
    "version": 3
   },
   "file_extension": ".py",
   "mimetype": "text/x-python",
   "name": "python",
   "nbconvert_exporter": "python",
   "pygments_lexer": "ipython3",
   "version": "3.9.1"
  }
 },
 "nbformat": 4,
 "nbformat_minor": 5
}
