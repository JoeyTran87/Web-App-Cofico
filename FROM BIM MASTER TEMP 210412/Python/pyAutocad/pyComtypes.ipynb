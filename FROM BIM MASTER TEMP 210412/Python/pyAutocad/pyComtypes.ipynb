{
 "cells": [
  {
   "cell_type": "code",
   "execution_count": 1,
   "id": "9260d353-b9ee-43d6-8d9b-4679d96b7f09",
   "metadata": {},
   "outputs": [],
   "source": [
    "import comtypes.client"
   ]
  },
  {
   "cell_type": "code",
   "execution_count": 7,
   "id": "06e41e9c-4a05-4545-a361-adf69d5b8036",
   "metadata": {},
   "outputs": [
    {
     "ename": "OSError",
     "evalue": "[WinError -2147221005] Invalid class string",
     "output_type": "error",
     "traceback": [
      "\u001b[1;31m---------------------------------------------------------------------------\u001b[0m",
      "\u001b[1;31mOSError\u001b[0m                                   Traceback (most recent call last)",
      "\u001b[1;32m<ipython-input-7-e7e114ea095c>\u001b[0m in \u001b[0;36m<module>\u001b[1;34m\u001b[0m\n\u001b[0;32m      1\u001b[0m \u001b[1;32mtry\u001b[0m\u001b[1;33m:\u001b[0m\u001b[1;33m\u001b[0m\u001b[1;33m\u001b[0m\u001b[0m\n\u001b[1;32m----> 2\u001b[1;33m     \u001b[0mrevit\u001b[0m \u001b[1;33m=\u001b[0m \u001b[0mcomtypes\u001b[0m\u001b[1;33m.\u001b[0m\u001b[0mclient\u001b[0m\u001b[1;33m.\u001b[0m\u001b[0mGetActiveObject\u001b[0m\u001b[1;33m(\u001b[0m\u001b[1;34m\"Autodesk.Revit.Application\"\u001b[0m\u001b[1;33m)\u001b[0m\u001b[1;33m\u001b[0m\u001b[1;33m\u001b[0m\u001b[0m\n\u001b[0m\u001b[0;32m      3\u001b[0m \u001b[1;32mexcept\u001b[0m\u001b[1;33m:\u001b[0m\u001b[1;33m\u001b[0m\u001b[1;33m\u001b[0m\u001b[0m\n",
      "\u001b[1;32mc:\\users\\user\\appdata\\local\\programs\\python\\python39\\lib\\site-packages\\comtypes\\client\\__init__.py\u001b[0m in \u001b[0;36mGetActiveObject\u001b[1;34m(progid, interface, dynamic)\u001b[0m\n\u001b[0;32m    172\u001b[0m     \"\"\"\n\u001b[1;32m--> 173\u001b[1;33m     \u001b[0mclsid\u001b[0m \u001b[1;33m=\u001b[0m \u001b[0mcomtypes\u001b[0m\u001b[1;33m.\u001b[0m\u001b[0mGUID\u001b[0m\u001b[1;33m.\u001b[0m\u001b[0mfrom_progid\u001b[0m\u001b[1;33m(\u001b[0m\u001b[0mprogid\u001b[0m\u001b[1;33m)\u001b[0m\u001b[1;33m\u001b[0m\u001b[1;33m\u001b[0m\u001b[0m\n\u001b[0m\u001b[0;32m    174\u001b[0m     \u001b[1;32mif\u001b[0m \u001b[0mdynamic\u001b[0m\u001b[1;33m:\u001b[0m\u001b[1;33m\u001b[0m\u001b[1;33m\u001b[0m\u001b[0m\n",
      "\u001b[1;32mc:\\users\\user\\appdata\\local\\programs\\python\\python39\\lib\\site-packages\\comtypes\\GUID.py\u001b[0m in \u001b[0;36mfrom_progid\u001b[1;34m(cls, progid)\u001b[0m\n\u001b[0;32m     77\u001b[0m             \u001b[0minst\u001b[0m \u001b[1;33m=\u001b[0m \u001b[0mcls\u001b[0m\u001b[1;33m(\u001b[0m\u001b[1;33m)\u001b[0m\u001b[1;33m\u001b[0m\u001b[1;33m\u001b[0m\u001b[0m\n\u001b[1;32m---> 78\u001b[1;33m             \u001b[0m_CLSIDFromProgID\u001b[0m\u001b[1;33m(\u001b[0m\u001b[0mstr\u001b[0m\u001b[1;33m(\u001b[0m\u001b[0mprogid\u001b[0m\u001b[1;33m)\u001b[0m\u001b[1;33m,\u001b[0m \u001b[0mbyref\u001b[0m\u001b[1;33m(\u001b[0m\u001b[0minst\u001b[0m\u001b[1;33m)\u001b[0m\u001b[1;33m)\u001b[0m\u001b[1;33m\u001b[0m\u001b[1;33m\u001b[0m\u001b[0m\n\u001b[0m\u001b[0;32m     79\u001b[0m             \u001b[1;32mreturn\u001b[0m \u001b[0minst\u001b[0m\u001b[1;33m\u001b[0m\u001b[1;33m\u001b[0m\u001b[0m\n",
      "\u001b[1;32m_ctypes/callproc.c\u001b[0m in \u001b[0;36mGetResult\u001b[1;34m()\u001b[0m\n",
      "\u001b[1;31mOSError\u001b[0m: [WinError -2147221005] Invalid class string",
      "\nDuring handling of the above exception, another exception occurred:\n",
      "\u001b[1;31mOSError\u001b[0m                                   Traceback (most recent call last)",
      "\u001b[1;32m<ipython-input-7-e7e114ea095c>\u001b[0m in \u001b[0;36m<module>\u001b[1;34m\u001b[0m\n\u001b[0;32m      2\u001b[0m     \u001b[0mrevit\u001b[0m \u001b[1;33m=\u001b[0m \u001b[0mcomtypes\u001b[0m\u001b[1;33m.\u001b[0m\u001b[0mclient\u001b[0m\u001b[1;33m.\u001b[0m\u001b[0mGetActiveObject\u001b[0m\u001b[1;33m(\u001b[0m\u001b[1;34m\"Autodesk.Revit.Application\"\u001b[0m\u001b[1;33m)\u001b[0m\u001b[1;33m\u001b[0m\u001b[1;33m\u001b[0m\u001b[0m\n\u001b[0;32m      3\u001b[0m \u001b[1;32mexcept\u001b[0m\u001b[1;33m:\u001b[0m\u001b[1;33m\u001b[0m\u001b[1;33m\u001b[0m\u001b[0m\n\u001b[1;32m----> 4\u001b[1;33m     \u001b[0mrevit\u001b[0m \u001b[1;33m=\u001b[0m \u001b[0mcomtypes\u001b[0m\u001b[1;33m.\u001b[0m\u001b[0mclient\u001b[0m\u001b[1;33m.\u001b[0m\u001b[0mCreateObject\u001b[0m\u001b[1;33m(\u001b[0m\u001b[1;34m\"Autodesk.Revit.Application\"\u001b[0m\u001b[1;33m)\u001b[0m\u001b[1;33m\u001b[0m\u001b[1;33m\u001b[0m\u001b[0m\n\u001b[0m",
      "\u001b[1;32mc:\\users\\user\\appdata\\local\\programs\\python\\python39\\lib\\site-packages\\comtypes\\client\\__init__.py\u001b[0m in \u001b[0;36mCreateObject\u001b[1;34m(progid, clsctx, machine, interface, dynamic, pServerInfo)\u001b[0m\n\u001b[0;32m    225\u001b[0m     \u001b[0mYou\u001b[0m \u001b[0mcan\u001b[0m \u001b[0malso\u001b[0m \u001b[0mlater\u001b[0m \u001b[0mrequest\u001b[0m \u001b[0mto\u001b[0m \u001b[0mreceive\u001b[0m \u001b[0mevents\u001b[0m \u001b[1;32mwith\u001b[0m \u001b[0mGetEvents\u001b[0m\u001b[1;33m(\u001b[0m\u001b[1;33m)\u001b[0m\u001b[1;33m.\u001b[0m\u001b[1;33m\u001b[0m\u001b[1;33m\u001b[0m\u001b[0m\n\u001b[0;32m    226\u001b[0m     \"\"\"\n\u001b[1;32m--> 227\u001b[1;33m     \u001b[0mclsid\u001b[0m \u001b[1;33m=\u001b[0m \u001b[0mcomtypes\u001b[0m\u001b[1;33m.\u001b[0m\u001b[0mGUID\u001b[0m\u001b[1;33m.\u001b[0m\u001b[0mfrom_progid\u001b[0m\u001b[1;33m(\u001b[0m\u001b[0mprogid\u001b[0m\u001b[1;33m)\u001b[0m\u001b[1;33m\u001b[0m\u001b[1;33m\u001b[0m\u001b[0m\n\u001b[0m\u001b[0;32m    228\u001b[0m     \u001b[0mlogger\u001b[0m\u001b[1;33m.\u001b[0m\u001b[0mdebug\u001b[0m\u001b[1;33m(\u001b[0m\u001b[1;34m\"%s -> %s\"\u001b[0m\u001b[1;33m,\u001b[0m \u001b[0mprogid\u001b[0m\u001b[1;33m,\u001b[0m \u001b[0mclsid\u001b[0m\u001b[1;33m)\u001b[0m\u001b[1;33m\u001b[0m\u001b[1;33m\u001b[0m\u001b[0m\n\u001b[0;32m    229\u001b[0m     \u001b[1;32mif\u001b[0m \u001b[0mdynamic\u001b[0m\u001b[1;33m:\u001b[0m\u001b[1;33m\u001b[0m\u001b[1;33m\u001b[0m\u001b[0m\n",
      "\u001b[1;32mc:\\users\\user\\appdata\\local\\programs\\python\\python39\\lib\\site-packages\\comtypes\\GUID.py\u001b[0m in \u001b[0;36mfrom_progid\u001b[1;34m(cls, progid)\u001b[0m\n\u001b[0;32m     76\u001b[0m                 \u001b[1;32mreturn\u001b[0m \u001b[0mcls\u001b[0m\u001b[1;33m(\u001b[0m\u001b[0mprogid\u001b[0m\u001b[1;33m)\u001b[0m\u001b[1;33m\u001b[0m\u001b[1;33m\u001b[0m\u001b[0m\n\u001b[0;32m     77\u001b[0m             \u001b[0minst\u001b[0m \u001b[1;33m=\u001b[0m \u001b[0mcls\u001b[0m\u001b[1;33m(\u001b[0m\u001b[1;33m)\u001b[0m\u001b[1;33m\u001b[0m\u001b[1;33m\u001b[0m\u001b[0m\n\u001b[1;32m---> 78\u001b[1;33m             \u001b[0m_CLSIDFromProgID\u001b[0m\u001b[1;33m(\u001b[0m\u001b[0mstr\u001b[0m\u001b[1;33m(\u001b[0m\u001b[0mprogid\u001b[0m\u001b[1;33m)\u001b[0m\u001b[1;33m,\u001b[0m \u001b[0mbyref\u001b[0m\u001b[1;33m(\u001b[0m\u001b[0minst\u001b[0m\u001b[1;33m)\u001b[0m\u001b[1;33m)\u001b[0m\u001b[1;33m\u001b[0m\u001b[1;33m\u001b[0m\u001b[0m\n\u001b[0m\u001b[0;32m     79\u001b[0m             \u001b[1;32mreturn\u001b[0m \u001b[0minst\u001b[0m\u001b[1;33m\u001b[0m\u001b[1;33m\u001b[0m\u001b[0m\n\u001b[0;32m     80\u001b[0m         \u001b[1;32melse\u001b[0m\u001b[1;33m:\u001b[0m\u001b[1;33m\u001b[0m\u001b[1;33m\u001b[0m\u001b[0m\n",
      "\u001b[1;32m_ctypes/callproc.c\u001b[0m in \u001b[0;36mGetResult\u001b[1;34m()\u001b[0m\n",
      "\u001b[1;31mOSError\u001b[0m: [WinError -2147221005] Invalid class string"
     ]
    }
   ],
   "source": [
    "try:\n",
    "    revit = comtypes.client.GetActiveObject(\"Autodesk.Revit.Application\")\n",
    "except:\n",
    "    revit = comtypes.client.CreateObject(\"Autodesk.Revit.Application\")"
   ]
  },
  {
   "cell_type": "code",
   "execution_count": 6,
   "id": "1afb22ce-c006-4068-bf57-ef26ede6441b",
   "metadata": {},
   "outputs": [
    {
     "data": {
      "text/plain": [
       "['CLASS_E_CLASSNOTAVAILABLE',\n",
       " 'CLASS_E_NOAGGREGATION',\n",
       " 'CONNECT_E_ADVISELIMIT',\n",
       " 'CONNECT_E_CANNOTCONNECT',\n",
       " 'CONNECT_E_NOCONNECTION',\n",
       " 'CO_E_CLASSSTRING',\n",
       " 'CoGetObject',\n",
       " 'Constants',\n",
       " 'CreateObject',\n",
       " 'DISP_E_ARRAYISLOCKED',\n",
       " 'DISP_E_BADCALLEE',\n",
       " 'DISP_E_BADINDEX',\n",
       " 'DISP_E_BADPARAMCOUNT',\n",
       " 'DISP_E_BADVARTYPE',\n",
       " 'DISP_E_BUFFERTOOSMALL',\n",
       " 'DISP_E_DIVBYZERO',\n",
       " 'DISP_E_EXCEPTION',\n",
       " 'DISP_E_MEMBERNOTFOUND',\n",
       " 'DISP_E_NONAMEDARGS',\n",
       " 'DISP_E_NOTACOLLECTION',\n",
       " 'DISP_E_OVERFLOW',\n",
       " 'DISP_E_PARAMNOTFOUND',\n",
       " 'DISP_E_PARAMNOTOPTIONAL',\n",
       " 'DISP_E_TYPEMISMATCH',\n",
       " 'DISP_E_UNKNOWNINTERFACE',\n",
       " 'DISP_E_UNKNOWNLCID',\n",
       " 'DISP_E_UNKNOWNNAME',\n",
       " 'E_FAIL',\n",
       " 'E_INVALIDARG',\n",
       " 'E_NOINTERFACE',\n",
       " 'E_NOTIMPL',\n",
       " 'E_OUTOFMEMORY',\n",
       " 'E_POINTER',\n",
       " 'E_UNEXPECTED',\n",
       " 'FACILITY_ITF',\n",
       " 'FACILITY_WIN32',\n",
       " 'GetActiveObject',\n",
       " 'GetBestInterface',\n",
       " 'GetClassObject',\n",
       " 'GetEvents',\n",
       " 'GetModule',\n",
       " 'HRESULT_FROM_WIN32',\n",
       " 'MAKE_HRESULT',\n",
       " 'PumpEvents',\n",
       " 'RPC_E_CHANGED_MODE',\n",
       " 'RPC_E_SERVERFAULT',\n",
       " 'SEVERITY_ERROR',\n",
       " 'SEVERITY_SUCCESS',\n",
       " 'S_FALSE',\n",
       " 'S_OK',\n",
       " 'ShowEvents',\n",
       " 'TYPE_E_CANTLOADLIBRARY',\n",
       " 'TYPE_E_ELEMENTNOTFOUND',\n",
       " 'TYPE_E_REGISTRYACCESS',\n",
       " '__all__',\n",
       " '__builtins__',\n",
       " '__cached__',\n",
       " '__doc__',\n",
       " '__file__',\n",
       " '__loader__',\n",
       " '__name__',\n",
       " '__package__',\n",
       " '__path__',\n",
       " '__spec__',\n",
       " '_code_cache',\n",
       " '_events',\n",
       " '_find_gen_dir',\n",
       " '_generate',\n",
       " '_manage',\n",
       " 'comtypes',\n",
       " 'ctypes',\n",
       " 'dynamic',\n",
       " 'gen_dir',\n",
       " 'lazybind',\n",
       " 'logger',\n",
       " 'logging',\n",
       " 'os',\n",
       " 'sys',\n",
       " 'wrap',\n",
       " 'wrap_outparam']"
      ]
     },
     "execution_count": 6,
     "metadata": {},
     "output_type": "execute_result"
    }
   ],
   "source": [
    " dir(comtypes.client)"
   ]
  },
  {
   "cell_type": "code",
   "execution_count": null,
   "id": "a7dfa7f3-4e2d-4df6-bb20-dac7f8b58d0a",
   "metadata": {},
   "outputs": [],
   "source": []
  }
 ],
 "metadata": {
  "kernelspec": {
   "display_name": "Python 3",
   "language": "python",
   "name": "python3"
  },
  "language_info": {
   "codemirror_mode": {
    "name": "ipython",
    "version": 3
   },
   "file_extension": ".py",
   "mimetype": "text/x-python",
   "name": "python",
   "nbconvert_exporter": "python",
   "pygments_lexer": "ipython3",
   "version": "3.9.1"
  }
 },
 "nbformat": 4,
 "nbformat_minor": 5
}
