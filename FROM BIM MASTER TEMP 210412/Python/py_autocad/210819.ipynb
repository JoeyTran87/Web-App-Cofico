{
 "cells": [
  {
   "cell_type": "code",
   "execution_count": 1,
   "id": "93237eda-9088-478d-8efb-44aeab836a5f",
   "metadata": {},
   "outputs": [],
   "source": [
    "\"\"\"Xử lí toàn bộ Block, Leader, Dim : Color by Block\"\"\"\n",
    "import pyautocad\n",
    "from pyautocad import Autocad, APoint\n",
    "import pyautocad, utility\n",
    "from pyautocad import *\n",
    "from utility import *"
   ]
  },
  {
   "cell_type": "code",
   "execution_count": 2,
   "id": "bfe3469a-b057-44d8-b478-12b03f4231af",
   "metadata": {},
   "outputs": [],
   "source": [
    "cad_app = None\n",
    "cad_doc = None\n",
    "path = None"
   ]
  },
  {
   "cell_type": "code",
   "execution_count": 3,
   "id": "780bc0b6-56ff-4604-965b-546ea6f1486e",
   "metadata": {},
   "outputs": [
    {
     "name": "stdin",
     "output_type": "stream",
     "text": [
      "Đường dẫn file CAD:  K:\\_WFH THU VIEN TRINH BAY DAU THAU\\INPUT\\15.08.2021.THU MUC CAC BPTC DIEN HINH\\_XU LI\\test.dwg\n"
     ]
    }
   ],
   "source": [
    "#-----------------------# Kiểm tra đường dẫn\n",
    "while True:\n",
    "    path = input('Đường dẫn file CAD: ')\n",
    "    if os.path.isfile(path):\n",
    "        break\n",
    "file_name = path.split(\"\\\\\")[-1]"
   ]
  },
  {
   "cell_type": "code",
   "execution_count": 4,
   "id": "73fa1071-79b8-4144-bc11-73e7e3c275fc",
   "metadata": {},
   "outputs": [],
   "source": [
    "#-----------------------# Mở Autocad lên nếu chưa mở\n",
    "while True:\n",
    "    try:\n",
    "        cad_app = comtypes.client.GetActiveObject(\"AutoCAD.Application\")\n",
    "    except:\n",
    "        cad_app = comtypes.client.CreateObject(\"AutoCAD.Application\")\n",
    "    if cad_app:\n",
    "        break\n",
    "# while not acadApp.GetAcadState().IsQuiescent :\n",
    "#     time.sleep(5)\n",
    "cad_app.Visible = True\n",
    "acad = Autocad()"
   ]
  },
  {
   "cell_type": "code",
   "execution_count": 5,
   "id": "16d84cdc-88e2-4f80-9972-742c9003f575",
   "metadata": {},
   "outputs": [
    {
     "name": "stdout",
     "output_type": "stream",
     "text": [
      "test.dwg\n"
     ]
    }
   ],
   "source": [
    "while True:\n",
    "    try:\n",
    "        docs = acad.Application.Documents # print(cad_doc.Name)\n",
    "        count = docs.Count\n",
    "        while count > 0:            \n",
    "            #-----------------------# Nếu File đã đang mở\n",
    "            count -= 1\n",
    "            if docs.Item(count).Name == file_name:\n",
    "                cad_doc = docs.Item(count)\n",
    "                print(cad_doc.Name)\n",
    "                break           \n",
    "\n",
    "        if cad_doc == None:\n",
    "            cad_doc = cad_app.Documents.Open(path)\n",
    "            print(cad_doc.Name)\n",
    "            break\n",
    "        else:\n",
    "            break\n",
    "    except:\n",
    "        pass"
   ]
  },
  {
   "cell_type": "code",
   "execution_count": 6,
   "id": "29c9ef77-01e0-452b-80de-84cb723ef6e0",
   "metadata": {},
   "outputs": [
    {
     "name": "stdout",
     "output_type": "stream",
     "text": [
      "Hello, Autocad from Python\n"
     ]
    }
   ],
   "source": [
    "acad.prompt(\"Hello, Autocad from Python\")\n",
    "\n",
    "blocks = cad_doc.Blocks\n",
    "\n",
    "model_space = cad_doc.ModelSpace\n"
   ]
  },
  {
   "cell_type": "code",
   "execution_count": 11,
   "id": "5715016b-63b3-4478-8ef8-c873574c6d3e",
   "metadata": {},
   "outputs": [
    {
     "data": {
      "text/plain": [
       "['ActiveDocument',\n",
       " 'Application',\n",
       " '__class__',\n",
       " '__delattr__',\n",
       " '__dict__',\n",
       " '__dir__',\n",
       " '__doc__',\n",
       " '__eq__',\n",
       " '__format__',\n",
       " '__ge__',\n",
       " '__getattribute__',\n",
       " '__gt__',\n",
       " '__hash__',\n",
       " '__init__',\n",
       " '__init_subclass__',\n",
       " '__le__',\n",
       " '__lt__',\n",
       " '__module__',\n",
       " '__ne__',\n",
       " '__new__',\n",
       " '__reduce__',\n",
       " '__reduce_ex__',\n",
       " '__repr__',\n",
       " '__setattr__',\n",
       " '__sizeof__',\n",
       " '__str__',\n",
       " '__subclasshook__',\n",
       " '__weakref__',\n",
       " '_app',\n",
       " '_create_if_not_exists',\n",
       " '_visible',\n",
       " 'aDouble',\n",
       " 'aInt',\n",
       " 'aShort',\n",
       " 'app',\n",
       " 'best_interface',\n",
       " 'doc',\n",
       " 'find_one',\n",
       " 'get_selection',\n",
       " 'iter_layouts',\n",
       " 'iter_objects',\n",
       " 'iter_objects_fast',\n",
       " 'model',\n",
       " 'prompt']"
      ]
     },
     "execution_count": 11,
     "metadata": {},
     "output_type": "execute_result"
    }
   ],
   "source": [
    "dir(acad)"
   ]
  },
  {
   "cell_type": "code",
   "execution_count": null,
   "id": "2e7e5362-632e-4fe0-98f5-3a0342d1f4a7",
   "metadata": {},
   "outputs": [],
   "source": [
    "acad.get_selection()"
   ]
  }
 ],
 "metadata": {
  "kernelspec": {
   "display_name": "Python 3",
   "language": "python",
   "name": "python3"
  },
  "language_info": {
   "codemirror_mode": {
    "name": "ipython",
    "version": 3
   },
   "file_extension": ".py",
   "mimetype": "text/x-python",
   "name": "python",
   "nbconvert_exporter": "python",
   "pygments_lexer": "ipython3",
   "version": "3.9.1"
  }
 },
 "nbformat": 4,
 "nbformat_minor": 5
}
